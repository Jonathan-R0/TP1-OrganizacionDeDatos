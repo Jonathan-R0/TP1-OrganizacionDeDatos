{
 "cells": [
  {
   "cell_type": "markdown",
   "id": "4819657e",
   "metadata": {},
   "source": [
    "# Parte 2\n",
    "\n",
    "## Introducción al Set de Datos\n",
    "\n",
    "Se nos provee de un dataframe que contiene información de diferentes canciones de Spotify. Se debe realizar un análisis exploratorio del mismo."
   ]
  },
  {
   "cell_type": "markdown",
   "id": "dcb9aeaf",
   "metadata": {},
   "source": [
    "TO DO:\n",
    "\n",
    "- Sacar los min/max y cambiarlo por un `df.describe()`\n",
    "- Sacar warnings"
   ]
  },
  {
   "cell_type": "markdown",
   "id": "6b41fdce",
   "metadata": {},
   "source": [
    "## Import y limpieza del Dataframe"
   ]
  },
  {
   "cell_type": "code",
   "execution_count": 1,
   "id": "43e8f8a6",
   "metadata": {
    "scrolled": true
   },
   "outputs": [],
   "source": [
    "import pandas as pd\n",
    "import numpy as np\n",
    "import matplotlib.pyplot as plt\n",
    "import seaborn as sns\n",
    "import math\n",
    "import seaborn as sns\n",
    "%matplotlib inline\n",
    "\n",
    "import warnings\n",
    "warnings.simplefilter(action='ignore', category=FutureWarning)"
   ]
  },
  {
   "cell_type": "code",
   "execution_count": 2,
   "id": "72131b62",
   "metadata": {
    "scrolled": true
   },
   "outputs": [
    {
     "data": {
      "text/html": [
       "<div>\n",
       "<style scoped>\n",
       "    .dataframe tbody tr th:only-of-type {\n",
       "        vertical-align: middle;\n",
       "    }\n",
       "\n",
       "    .dataframe tbody tr th {\n",
       "        vertical-align: top;\n",
       "    }\n",
       "\n",
       "    .dataframe thead th {\n",
       "        text-align: right;\n",
       "    }\n",
       "</style>\n",
       "<table border=\"1\" class=\"dataframe\">\n",
       "  <thead>\n",
       "    <tr style=\"text-align: right;\">\n",
       "      <th></th>\n",
       "      <th>genre</th>\n",
       "      <th>popularity</th>\n",
       "      <th>acousticness</th>\n",
       "      <th>danceability</th>\n",
       "      <th>duration_ms</th>\n",
       "      <th>energy</th>\n",
       "      <th>liveness</th>\n",
       "      <th>loudness</th>\n",
       "      <th>speechiness</th>\n",
       "      <th>tempo</th>\n",
       "      <th>valence</th>\n",
       "      <th>Unnamed: 11</th>\n",
       "      <th>Unnamed: 12</th>\n",
       "      <th>Unnamed: 13</th>\n",
       "      <th>Unnamed: 14</th>\n",
       "      <th>Unnamed: 15</th>\n",
       "      <th>Unnamed: 16</th>\n",
       "      <th>Unnamed: 17</th>\n",
       "      <th>Unnamed: 18</th>\n",
       "    </tr>\n",
       "  </thead>\n",
       "  <tbody>\n",
       "    <tr>\n",
       "      <th>0</th>\n",
       "      <td>Dance</td>\n",
       "      <td>99</td>\n",
       "      <td>0,04</td>\n",
       "      <td>0,73</td>\n",
       "      <td>190440</td>\n",
       "      <td>0,55</td>\n",
       "      <td>0,11</td>\n",
       "      <td>(5,29)</td>\n",
       "      <td>0,09</td>\n",
       "      <td>170,00</td>\n",
       "      <td>0,34</td>\n",
       "      <td>NaN</td>\n",
       "      <td>Cluster</td>\n",
       "      <td>NaN</td>\n",
       "      <td>NaN</td>\n",
       "      <td>NaN</td>\n",
       "      <td>NaN</td>\n",
       "      <td>NaN</td>\n",
       "      <td>NaN</td>\n",
       "    </tr>\n",
       "    <tr>\n",
       "      <th>1</th>\n",
       "      <td>Dance</td>\n",
       "      <td>83</td>\n",
       "      <td>0,11</td>\n",
       "      <td>0,78</td>\n",
       "      <td>208787</td>\n",
       "      <td>0,61</td>\n",
       "      <td>0,13</td>\n",
       "      <td>(4,59)</td>\n",
       "      <td>0,05</td>\n",
       "      <td>100,07</td>\n",
       "      <td>0,80</td>\n",
       "      <td>NaN</td>\n",
       "      <td>genre</td>\n",
       "      <td>Género</td>\n",
       "      <td>musical</td>\n",
       "      <td>correspondiente</td>\n",
       "      <td>a</td>\n",
       "      <td>la</td>\n",
       "      <td>canción.</td>\n",
       "    </tr>\n",
       "    <tr>\n",
       "      <th>2</th>\n",
       "      <td>Dance</td>\n",
       "      <td>87</td>\n",
       "      <td>0,04</td>\n",
       "      <td>0,74</td>\n",
       "      <td>222653</td>\n",
       "      <td>0,64</td>\n",
       "      <td>0,35</td>\n",
       "      <td>(4,55)</td>\n",
       "      <td>0,04</td>\n",
       "      <td>105,01</td>\n",
       "      <td>0,57</td>\n",
       "      <td>NaN</td>\n",
       "      <td>popularity</td>\n",
       "      <td>índice de popularidad de la canción</td>\n",
       "      <td>NaN</td>\n",
       "      <td>NaN</td>\n",
       "      <td>NaN</td>\n",
       "      <td>NaN</td>\n",
       "      <td>NaN</td>\n",
       "    </tr>\n",
       "    <tr>\n",
       "      <th>3</th>\n",
       "      <td>Dance</td>\n",
       "      <td>78</td>\n",
       "      <td>0,02</td>\n",
       "      <td>0,59</td>\n",
       "      <td>220573</td>\n",
       "      <td>0,70</td>\n",
       "      <td>0,06</td>\n",
       "      <td>(5,33)</td>\n",
       "      <td>0,04</td>\n",
       "      <td>104,96</td>\n",
       "      <td>0,25</td>\n",
       "      <td>NaN</td>\n",
       "      <td>acousticness</td>\n",
       "      <td>medida de confianza de si la canción es acústica</td>\n",
       "      <td>NaN</td>\n",
       "      <td>NaN</td>\n",
       "      <td>NaN</td>\n",
       "      <td>NaN</td>\n",
       "      <td>NaN</td>\n",
       "    </tr>\n",
       "    <tr>\n",
       "      <th>4</th>\n",
       "      <td>Dance</td>\n",
       "      <td>72</td>\n",
       "      <td>0,42</td>\n",
       "      <td>0,73</td>\n",
       "      <td>200773</td>\n",
       "      <td>0,65</td>\n",
       "      <td>0,09</td>\n",
       "      <td>(4,39)</td>\n",
       "      <td>0,05</td>\n",
       "      <td>103,98</td>\n",
       "      <td>0,46</td>\n",
       "      <td>NaN</td>\n",
       "      <td>danceability</td>\n",
       "      <td>adecuación para ser bailada</td>\n",
       "      <td>NaN</td>\n",
       "      <td>NaN</td>\n",
       "      <td>NaN</td>\n",
       "      <td>NaN</td>\n",
       "      <td>NaN</td>\n",
       "    </tr>\n",
       "  </tbody>\n",
       "</table>\n",
       "</div>"
      ],
      "text/plain": [
       "   genre  popularity acousticness danceability  duration_ms   energy liveness  \\\n",
       "0  Dance          99        0,04         0,73        190440    0,55     0,11    \n",
       "1  Dance          83        0,11         0,78        208787    0,61     0,13    \n",
       "2  Dance          87        0,04         0,74        222653    0,64     0,35    \n",
       "3  Dance          78        0,02         0,59        220573    0,70     0,06    \n",
       "4  Dance          72        0,42         0,73        200773    0,65     0,09    \n",
       "\n",
       "   loudness speechiness      tempo  valence  Unnamed: 11     Unnamed: 12  \\\n",
       "0    (5,29)       0,09     170,00     0,34           NaN         Cluster   \n",
       "1    (4,59)       0,05     100,07     0,80           NaN           genre   \n",
       "2    (4,55)       0,04     105,01     0,57           NaN      popularity   \n",
       "3    (5,33)       0,04     104,96     0,25           NaN   acousticness    \n",
       "4    (4,39)       0,05     103,98     0,46           NaN   danceability    \n",
       "\n",
       "                                        Unnamed: 13 Unnamed: 14  \\\n",
       "0                                               NaN         NaN   \n",
       "1                                            Género     musical   \n",
       "2               índice de popularidad de la canción         NaN   \n",
       "3  medida de confianza de si la canción es acústica         NaN   \n",
       "4                       adecuación para ser bailada         NaN   \n",
       "\n",
       "       Unnamed: 15 Unnamed: 16 Unnamed: 17 Unnamed: 18  \n",
       "0              NaN         NaN         NaN         NaN  \n",
       "1  correspondiente           a          la    canción.  \n",
       "2              NaN         NaN         NaN         NaN  \n",
       "3              NaN         NaN         NaN         NaN  \n",
       "4              NaN         NaN         NaN         NaN  "
      ]
     },
     "execution_count": 2,
     "metadata": {},
     "output_type": "execute_result"
    }
   ],
   "source": [
    "df = pd.read_csv('../data/dataset_spotify.csv')\n",
    "df.head()"
   ]
  },
  {
   "cell_type": "code",
   "execution_count": 3,
   "id": "0821a9c0",
   "metadata": {},
   "outputs": [
    {
     "name": "stdout",
     "output_type": "stream",
     "text": [
      "<class 'pandas.core.frame.DataFrame'>\n",
      "RangeIndex: 1000 entries, 0 to 999\n",
      "Data columns (total 19 columns):\n",
      " #   Column        Non-Null Count  Dtype  \n",
      "---  ------        --------------  -----  \n",
      " 0   genre         1000 non-null   object \n",
      " 1   popularity    1000 non-null   int64  \n",
      " 2   acousticness  1000 non-null   object \n",
      " 3   danceability  1000 non-null   object \n",
      " 4   duration_ms   1000 non-null   int64  \n",
      " 5   energy        1000 non-null   object \n",
      " 6   liveness      1000 non-null   object \n",
      " 7   loudness      1000 non-null   object \n",
      " 8   speechiness   1000 non-null   object \n",
      " 9   tempo         1000 non-null   object \n",
      " 10  valence       1000 non-null   object \n",
      " 11  Unnamed: 11   0 non-null      float64\n",
      " 12  Unnamed: 12   12 non-null     object \n",
      " 13  Unnamed: 13   11 non-null     object \n",
      " 14  Unnamed: 14   1 non-null      object \n",
      " 15  Unnamed: 15   1 non-null      object \n",
      " 16  Unnamed: 16   1 non-null      object \n",
      " 17  Unnamed: 17   1 non-null      object \n",
      " 18  Unnamed: 18   1 non-null      object \n",
      "dtypes: float64(1), int64(2), object(16)\n",
      "memory usage: 148.6+ KB\n"
     ]
    }
   ],
   "source": [
    "df.info()"
   ]
  },
  {
   "cell_type": "markdown",
   "id": "fd6160a8",
   "metadata": {},
   "source": [
    "Tenemos nuestro dataframe importado. Por lo que ahora debemos limpiarlo y hacer el preprocesamiento previo al análisis exploratorio. Debemos:\n",
    "\n",
    "- Quitar las columnas y valores NaN/nulos.\n",
    "- Tomar los campos que son `Object` y parsearlos a los campos numéricos correspondientes.\n",
    "- Cambiar los tipos de las columnas para disminuir el tamaño que necesita el dataframe."
   ]
  },
  {
   "cell_type": "markdown",
   "id": "074c638a",
   "metadata": {},
   "source": [
    "### Extracción de Valores Nulos"
   ]
  },
  {
   "cell_type": "markdown",
   "id": "511fa57a",
   "metadata": {},
   "source": [
    "Las siguientes columnas se autogeneraron pues el `.csv` descargado desde el excel tienen datos nulos o metadata que ya fue extraída para el análisis a realizar:"
   ]
  },
  {
   "cell_type": "code",
   "execution_count": 4,
   "id": "90499921",
   "metadata": {
    "scrolled": true
   },
   "outputs": [
    {
     "data": {
      "text/plain": [
       "['Unnamed: 11',\n",
       " 'Unnamed: 12',\n",
       " 'Unnamed: 13',\n",
       " 'Unnamed: 14',\n",
       " 'Unnamed: 15',\n",
       " 'Unnamed: 16',\n",
       " 'Unnamed: 17',\n",
       " 'Unnamed: 18']"
      ]
     },
     "execution_count": 4,
     "metadata": {},
     "output_type": "execute_result"
    }
   ],
   "source": [
    "unnamedColumns = list(df.filter(regex='Unnamed'))\n",
    "unnamedColumns"
   ]
  },
  {
   "cell_type": "code",
   "execution_count": 5,
   "id": "620b66c4",
   "metadata": {
    "scrolled": false
   },
   "outputs": [
    {
     "data": {
      "text/html": [
       "<div>\n",
       "<style scoped>\n",
       "    .dataframe tbody tr th:only-of-type {\n",
       "        vertical-align: middle;\n",
       "    }\n",
       "\n",
       "    .dataframe tbody tr th {\n",
       "        vertical-align: top;\n",
       "    }\n",
       "\n",
       "    .dataframe thead th {\n",
       "        text-align: right;\n",
       "    }\n",
       "</style>\n",
       "<table border=\"1\" class=\"dataframe\">\n",
       "  <thead>\n",
       "    <tr style=\"text-align: right;\">\n",
       "      <th></th>\n",
       "      <th>genre</th>\n",
       "      <th>popularity</th>\n",
       "      <th>acousticness</th>\n",
       "      <th>danceability</th>\n",
       "      <th>duration_ms</th>\n",
       "      <th>energy</th>\n",
       "      <th>liveness</th>\n",
       "      <th>loudness</th>\n",
       "      <th>speechiness</th>\n",
       "      <th>tempo</th>\n",
       "      <th>valence</th>\n",
       "    </tr>\n",
       "  </thead>\n",
       "  <tbody>\n",
       "    <tr>\n",
       "      <th>0</th>\n",
       "      <td>Dance</td>\n",
       "      <td>99</td>\n",
       "      <td>0,04</td>\n",
       "      <td>0,73</td>\n",
       "      <td>190440</td>\n",
       "      <td>0,55</td>\n",
       "      <td>0,11</td>\n",
       "      <td>(5,29)</td>\n",
       "      <td>0,09</td>\n",
       "      <td>170,00</td>\n",
       "      <td>0,34</td>\n",
       "    </tr>\n",
       "    <tr>\n",
       "      <th>1</th>\n",
       "      <td>Dance</td>\n",
       "      <td>83</td>\n",
       "      <td>0,11</td>\n",
       "      <td>0,78</td>\n",
       "      <td>208787</td>\n",
       "      <td>0,61</td>\n",
       "      <td>0,13</td>\n",
       "      <td>(4,59)</td>\n",
       "      <td>0,05</td>\n",
       "      <td>100,07</td>\n",
       "      <td>0,80</td>\n",
       "    </tr>\n",
       "    <tr>\n",
       "      <th>2</th>\n",
       "      <td>Dance</td>\n",
       "      <td>87</td>\n",
       "      <td>0,04</td>\n",
       "      <td>0,74</td>\n",
       "      <td>222653</td>\n",
       "      <td>0,64</td>\n",
       "      <td>0,35</td>\n",
       "      <td>(4,55)</td>\n",
       "      <td>0,04</td>\n",
       "      <td>105,01</td>\n",
       "      <td>0,57</td>\n",
       "    </tr>\n",
       "    <tr>\n",
       "      <th>3</th>\n",
       "      <td>Dance</td>\n",
       "      <td>78</td>\n",
       "      <td>0,02</td>\n",
       "      <td>0,59</td>\n",
       "      <td>220573</td>\n",
       "      <td>0,70</td>\n",
       "      <td>0,06</td>\n",
       "      <td>(5,33)</td>\n",
       "      <td>0,04</td>\n",
       "      <td>104,96</td>\n",
       "      <td>0,25</td>\n",
       "    </tr>\n",
       "    <tr>\n",
       "      <th>4</th>\n",
       "      <td>Dance</td>\n",
       "      <td>72</td>\n",
       "      <td>0,42</td>\n",
       "      <td>0,73</td>\n",
       "      <td>200773</td>\n",
       "      <td>0,65</td>\n",
       "      <td>0,09</td>\n",
       "      <td>(4,39)</td>\n",
       "      <td>0,05</td>\n",
       "      <td>103,98</td>\n",
       "      <td>0,46</td>\n",
       "    </tr>\n",
       "    <tr>\n",
       "      <th>...</th>\n",
       "      <td>...</td>\n",
       "      <td>...</td>\n",
       "      <td>...</td>\n",
       "      <td>...</td>\n",
       "      <td>...</td>\n",
       "      <td>...</td>\n",
       "      <td>...</td>\n",
       "      <td>...</td>\n",
       "      <td>...</td>\n",
       "      <td>...</td>\n",
       "      <td>...</td>\n",
       "    </tr>\n",
       "    <tr>\n",
       "      <th>995</th>\n",
       "      <td>Soul</td>\n",
       "      <td>42</td>\n",
       "      <td>0,73</td>\n",
       "      <td>0,59</td>\n",
       "      <td>146693</td>\n",
       "      <td>0,38</td>\n",
       "      <td>0,39</td>\n",
       "      <td>(8,91)</td>\n",
       "      <td>0,03</td>\n",
       "      <td>85,21</td>\n",
       "      <td>0,64</td>\n",
       "    </tr>\n",
       "    <tr>\n",
       "      <th>996</th>\n",
       "      <td>Soul</td>\n",
       "      <td>43</td>\n",
       "      <td>0,00</td>\n",
       "      <td>0,45</td>\n",
       "      <td>175427</td>\n",
       "      <td>0,64</td>\n",
       "      <td>0,13</td>\n",
       "      <td>(5,67)</td>\n",
       "      <td>0,03</td>\n",
       "      <td>89,85</td>\n",
       "      <td>0,09</td>\n",
       "    </tr>\n",
       "    <tr>\n",
       "      <th>997</th>\n",
       "      <td>Soul</td>\n",
       "      <td>41</td>\n",
       "      <td>0,00</td>\n",
       "      <td>0,51</td>\n",
       "      <td>303640</td>\n",
       "      <td>0,62</td>\n",
       "      <td>0,11</td>\n",
       "      <td>(7,07)</td>\n",
       "      <td>0,20</td>\n",
       "      <td>91,90</td>\n",
       "      <td>0,25</td>\n",
       "    </tr>\n",
       "    <tr>\n",
       "      <th>998</th>\n",
       "      <td>Soul</td>\n",
       "      <td>44</td>\n",
       "      <td>0,43</td>\n",
       "      <td>0,67</td>\n",
       "      <td>246787</td>\n",
       "      <td>0,57</td>\n",
       "      <td>0,12</td>\n",
       "      <td>(5,68)</td>\n",
       "      <td>0,08</td>\n",
       "      <td>97,13</td>\n",
       "      <td>0,51</td>\n",
       "    </tr>\n",
       "    <tr>\n",
       "      <th>999</th>\n",
       "      <td>Soul</td>\n",
       "      <td>42</td>\n",
       "      <td>0,06</td>\n",
       "      <td>0,78</td>\n",
       "      <td>200533</td>\n",
       "      <td>0,38</td>\n",
       "      <td>0,11</td>\n",
       "      <td>(9,59)</td>\n",
       "      <td>0,03</td>\n",
       "      <td>106,02</td>\n",
       "      <td>0,34</td>\n",
       "    </tr>\n",
       "  </tbody>\n",
       "</table>\n",
       "<p>1000 rows × 11 columns</p>\n",
       "</div>"
      ],
      "text/plain": [
       "     genre  popularity acousticness danceability  duration_ms   energy  \\\n",
       "0    Dance          99        0,04         0,73        190440    0,55    \n",
       "1    Dance          83        0,11         0,78        208787    0,61    \n",
       "2    Dance          87        0,04         0,74        222653    0,64    \n",
       "3    Dance          78        0,02         0,59        220573    0,70    \n",
       "4    Dance          72        0,42         0,73        200773    0,65    \n",
       "..     ...         ...          ...          ...          ...      ...   \n",
       "995   Soul          42        0,73         0,59        146693    0,38    \n",
       "996   Soul          43        0,00         0,45        175427    0,64    \n",
       "997   Soul          41        0,00         0,51        303640    0,62    \n",
       "998   Soul          44        0,43         0,67        246787    0,57    \n",
       "999   Soul          42        0,06         0,78        200533    0,38    \n",
       "\n",
       "    liveness  loudness speechiness      tempo  valence  \n",
       "0      0,11     (5,29)       0,09     170,00     0,34   \n",
       "1      0,13     (4,59)       0,05     100,07     0,80   \n",
       "2      0,35     (4,55)       0,04     105,01     0,57   \n",
       "3      0,06     (5,33)       0,04     104,96     0,25   \n",
       "4      0,09     (4,39)       0,05     103,98     0,46   \n",
       "..       ...       ...         ...        ...      ...  \n",
       "995    0,39     (8,91)       0,03      85,21     0,64   \n",
       "996    0,13     (5,67)       0,03      89,85     0,09   \n",
       "997    0,11     (7,07)       0,20      91,90     0,25   \n",
       "998    0,12     (5,68)       0,08      97,13     0,51   \n",
       "999    0,11     (9,59)       0,03     106,02     0,34   \n",
       "\n",
       "[1000 rows x 11 columns]"
      ]
     },
     "execution_count": 5,
     "metadata": {},
     "output_type": "execute_result"
    }
   ],
   "source": [
    "df = df[df.columns.drop(unnamedColumns)]\n",
    "df"
   ]
  },
  {
   "cell_type": "code",
   "execution_count": 6,
   "id": "c419d7f1",
   "metadata": {
    "scrolled": true
   },
   "outputs": [
    {
     "name": "stdout",
     "output_type": "stream",
     "text": [
      "<class 'pandas.core.frame.DataFrame'>\n",
      "RangeIndex: 1000 entries, 0 to 999\n",
      "Data columns (total 11 columns):\n",
      " #   Column        Non-Null Count  Dtype \n",
      "---  ------        --------------  ----- \n",
      " 0   genre         1000 non-null   object\n",
      " 1   popularity    1000 non-null   int64 \n",
      " 2   acousticness  1000 non-null   object\n",
      " 3   danceability  1000 non-null   object\n",
      " 4   duration_ms   1000 non-null   int64 \n",
      " 5   energy        1000 non-null   object\n",
      " 6   liveness      1000 non-null   object\n",
      " 7   loudness      1000 non-null   object\n",
      " 8   speechiness   1000 non-null   object\n",
      " 9   tempo         1000 non-null   object\n",
      " 10  valence       1000 non-null   object\n",
      "dtypes: int64(2), object(9)\n",
      "memory usage: 86.1+ KB\n"
     ]
    }
   ],
   "source": [
    "df.info()"
   ]
  },
  {
   "cell_type": "markdown",
   "id": "0211be69",
   "metadata": {},
   "source": [
    "Vemos que todas las columnas son `non-null` por lo que ahora ninguna de estas posee datos nulos."
   ]
  },
  {
   "cell_type": "markdown",
   "id": "9935201a",
   "metadata": {},
   "source": [
    "### Transformación de Columnas Object"
   ]
  },
  {
   "cell_type": "markdown",
   "id": "0e66fb0d",
   "metadata": {},
   "source": [
    "Notamos que columnas como `genre` y `popularity` están bien tipadas, pues tiene sentido que el texto sea de tipo `object` y el número de tipo `int64`. La gran mayoría del resto de columnas debería ser `int` o `float` por lo que vamos a arreglarlo.\n",
    "\n",
    "Vamos a tomar el feature `acousticness` de ejemplo. Parsearemos el mismo para pasarlo a punto flotante, quitando los espacios innecesarios en el string e intercambiando las comas por puntos."
   ]
  },
  {
   "cell_type": "code",
   "execution_count": 7,
   "id": "79b86b9c",
   "metadata": {
    "scrolled": false
   },
   "outputs": [
    {
     "data": {
      "text/html": [
       "<div>\n",
       "<style scoped>\n",
       "    .dataframe tbody tr th:only-of-type {\n",
       "        vertical-align: middle;\n",
       "    }\n",
       "\n",
       "    .dataframe tbody tr th {\n",
       "        vertical-align: top;\n",
       "    }\n",
       "\n",
       "    .dataframe thead th {\n",
       "        text-align: right;\n",
       "    }\n",
       "</style>\n",
       "<table border=\"1\" class=\"dataframe\">\n",
       "  <thead>\n",
       "    <tr style=\"text-align: right;\">\n",
       "      <th></th>\n",
       "      <th>genre</th>\n",
       "      <th>popularity</th>\n",
       "      <th>acousticness</th>\n",
       "      <th>danceability</th>\n",
       "      <th>duration_ms</th>\n",
       "      <th>energy</th>\n",
       "      <th>liveness</th>\n",
       "      <th>loudness</th>\n",
       "      <th>speechiness</th>\n",
       "      <th>tempo</th>\n",
       "      <th>valence</th>\n",
       "    </tr>\n",
       "  </thead>\n",
       "  <tbody>\n",
       "    <tr>\n",
       "      <th>0</th>\n",
       "      <td>Dance</td>\n",
       "      <td>99</td>\n",
       "      <td>0.04</td>\n",
       "      <td>0,73</td>\n",
       "      <td>190440</td>\n",
       "      <td>0,55</td>\n",
       "      <td>0,11</td>\n",
       "      <td>(5,29)</td>\n",
       "      <td>0,09</td>\n",
       "      <td>170,00</td>\n",
       "      <td>0,34</td>\n",
       "    </tr>\n",
       "    <tr>\n",
       "      <th>1</th>\n",
       "      <td>Dance</td>\n",
       "      <td>83</td>\n",
       "      <td>0.11</td>\n",
       "      <td>0,78</td>\n",
       "      <td>208787</td>\n",
       "      <td>0,61</td>\n",
       "      <td>0,13</td>\n",
       "      <td>(4,59)</td>\n",
       "      <td>0,05</td>\n",
       "      <td>100,07</td>\n",
       "      <td>0,80</td>\n",
       "    </tr>\n",
       "    <tr>\n",
       "      <th>2</th>\n",
       "      <td>Dance</td>\n",
       "      <td>87</td>\n",
       "      <td>0.04</td>\n",
       "      <td>0,74</td>\n",
       "      <td>222653</td>\n",
       "      <td>0,64</td>\n",
       "      <td>0,35</td>\n",
       "      <td>(4,55)</td>\n",
       "      <td>0,04</td>\n",
       "      <td>105,01</td>\n",
       "      <td>0,57</td>\n",
       "    </tr>\n",
       "    <tr>\n",
       "      <th>3</th>\n",
       "      <td>Dance</td>\n",
       "      <td>78</td>\n",
       "      <td>0.02</td>\n",
       "      <td>0,59</td>\n",
       "      <td>220573</td>\n",
       "      <td>0,70</td>\n",
       "      <td>0,06</td>\n",
       "      <td>(5,33)</td>\n",
       "      <td>0,04</td>\n",
       "      <td>104,96</td>\n",
       "      <td>0,25</td>\n",
       "    </tr>\n",
       "    <tr>\n",
       "      <th>4</th>\n",
       "      <td>Dance</td>\n",
       "      <td>72</td>\n",
       "      <td>0.42</td>\n",
       "      <td>0,73</td>\n",
       "      <td>200773</td>\n",
       "      <td>0,65</td>\n",
       "      <td>0,09</td>\n",
       "      <td>(4,39)</td>\n",
       "      <td>0,05</td>\n",
       "      <td>103,98</td>\n",
       "      <td>0,46</td>\n",
       "    </tr>\n",
       "    <tr>\n",
       "      <th>...</th>\n",
       "      <td>...</td>\n",
       "      <td>...</td>\n",
       "      <td>...</td>\n",
       "      <td>...</td>\n",
       "      <td>...</td>\n",
       "      <td>...</td>\n",
       "      <td>...</td>\n",
       "      <td>...</td>\n",
       "      <td>...</td>\n",
       "      <td>...</td>\n",
       "      <td>...</td>\n",
       "    </tr>\n",
       "    <tr>\n",
       "      <th>995</th>\n",
       "      <td>Soul</td>\n",
       "      <td>42</td>\n",
       "      <td>0.73</td>\n",
       "      <td>0,59</td>\n",
       "      <td>146693</td>\n",
       "      <td>0,38</td>\n",
       "      <td>0,39</td>\n",
       "      <td>(8,91)</td>\n",
       "      <td>0,03</td>\n",
       "      <td>85,21</td>\n",
       "      <td>0,64</td>\n",
       "    </tr>\n",
       "    <tr>\n",
       "      <th>996</th>\n",
       "      <td>Soul</td>\n",
       "      <td>43</td>\n",
       "      <td>0.00</td>\n",
       "      <td>0,45</td>\n",
       "      <td>175427</td>\n",
       "      <td>0,64</td>\n",
       "      <td>0,13</td>\n",
       "      <td>(5,67)</td>\n",
       "      <td>0,03</td>\n",
       "      <td>89,85</td>\n",
       "      <td>0,09</td>\n",
       "    </tr>\n",
       "    <tr>\n",
       "      <th>997</th>\n",
       "      <td>Soul</td>\n",
       "      <td>41</td>\n",
       "      <td>0.00</td>\n",
       "      <td>0,51</td>\n",
       "      <td>303640</td>\n",
       "      <td>0,62</td>\n",
       "      <td>0,11</td>\n",
       "      <td>(7,07)</td>\n",
       "      <td>0,20</td>\n",
       "      <td>91,90</td>\n",
       "      <td>0,25</td>\n",
       "    </tr>\n",
       "    <tr>\n",
       "      <th>998</th>\n",
       "      <td>Soul</td>\n",
       "      <td>44</td>\n",
       "      <td>0.43</td>\n",
       "      <td>0,67</td>\n",
       "      <td>246787</td>\n",
       "      <td>0,57</td>\n",
       "      <td>0,12</td>\n",
       "      <td>(5,68)</td>\n",
       "      <td>0,08</td>\n",
       "      <td>97,13</td>\n",
       "      <td>0,51</td>\n",
       "    </tr>\n",
       "    <tr>\n",
       "      <th>999</th>\n",
       "      <td>Soul</td>\n",
       "      <td>42</td>\n",
       "      <td>0.06</td>\n",
       "      <td>0,78</td>\n",
       "      <td>200533</td>\n",
       "      <td>0,38</td>\n",
       "      <td>0,11</td>\n",
       "      <td>(9,59)</td>\n",
       "      <td>0,03</td>\n",
       "      <td>106,02</td>\n",
       "      <td>0,34</td>\n",
       "    </tr>\n",
       "  </tbody>\n",
       "</table>\n",
       "<p>1000 rows × 11 columns</p>\n",
       "</div>"
      ],
      "text/plain": [
       "     genre  popularity acousticness danceability  duration_ms   energy  \\\n",
       "0    Dance          99         0.04        0,73        190440    0,55    \n",
       "1    Dance          83         0.11        0,78        208787    0,61    \n",
       "2    Dance          87         0.04        0,74        222653    0,64    \n",
       "3    Dance          78         0.02        0,59        220573    0,70    \n",
       "4    Dance          72         0.42        0,73        200773    0,65    \n",
       "..     ...         ...          ...          ...          ...      ...   \n",
       "995   Soul          42         0.73        0,59        146693    0,38    \n",
       "996   Soul          43         0.00        0,45        175427    0,64    \n",
       "997   Soul          41         0.00        0,51        303640    0,62    \n",
       "998   Soul          44         0.43        0,67        246787    0,57    \n",
       "999   Soul          42         0.06        0,78        200533    0,38    \n",
       "\n",
       "    liveness  loudness speechiness      tempo  valence  \n",
       "0      0,11     (5,29)       0,09     170,00     0,34   \n",
       "1      0,13     (4,59)       0,05     100,07     0,80   \n",
       "2      0,35     (4,55)       0,04     105,01     0,57   \n",
       "3      0,06     (5,33)       0,04     104,96     0,25   \n",
       "4      0,09     (4,39)       0,05     103,98     0,46   \n",
       "..       ...       ...         ...        ...      ...  \n",
       "995    0,39     (8,91)       0,03      85,21     0,64   \n",
       "996    0,13     (5,67)       0,03      89,85     0,09   \n",
       "997    0,11     (7,07)       0,20      91,90     0,25   \n",
       "998    0,12     (5,68)       0,08      97,13     0,51   \n",
       "999    0,11     (9,59)       0,03     106,02     0,34   \n",
       "\n",
       "[1000 rows x 11 columns]"
      ]
     },
     "execution_count": 7,
     "metadata": {},
     "output_type": "execute_result"
    }
   ],
   "source": [
    "df['acousticness'] = df['acousticness'].apply(lambda x: x.strip()\\\n",
    "                                                         .replace(',','.'))\n",
    "df"
   ]
  },
  {
   "cell_type": "markdown",
   "id": "227264f2",
   "metadata": {},
   "source": [
    "Ahora vemos que el máximo valor de esta columna es de 1, por lo que podemos dejar nuestro dato en un campo de tipo `float32` para que el tipo sea correcto."
   ]
  },
  {
   "cell_type": "code",
   "execution_count": 8,
   "id": "22cbc13c",
   "metadata": {},
   "outputs": [
    {
     "data": {
      "text/plain": [
       "'1.00'"
      ]
     },
     "execution_count": 8,
     "metadata": {},
     "output_type": "execute_result"
    }
   ],
   "source": [
    "df.acousticness.max()"
   ]
  },
  {
   "cell_type": "code",
   "execution_count": 9,
   "id": "acbe1681",
   "metadata": {
    "scrolled": false
   },
   "outputs": [],
   "source": [
    "df['acousticness'] = df['acousticness'].astype(np.float32)"
   ]
  },
  {
   "cell_type": "code",
   "execution_count": 10,
   "id": "18322d52",
   "metadata": {
    "scrolled": false
   },
   "outputs": [
    {
     "name": "stdout",
     "output_type": "stream",
     "text": [
      "<class 'pandas.core.frame.DataFrame'>\n",
      "RangeIndex: 1000 entries, 0 to 999\n",
      "Data columns (total 11 columns):\n",
      " #   Column        Non-Null Count  Dtype  \n",
      "---  ------        --------------  -----  \n",
      " 0   genre         1000 non-null   object \n",
      " 1   popularity    1000 non-null   int64  \n",
      " 2   acousticness  1000 non-null   float32\n",
      " 3   danceability  1000 non-null   object \n",
      " 4   duration_ms   1000 non-null   int64  \n",
      " 5   energy        1000 non-null   object \n",
      " 6   liveness      1000 non-null   object \n",
      " 7   loudness      1000 non-null   object \n",
      " 8   speechiness   1000 non-null   object \n",
      " 9   tempo         1000 non-null   object \n",
      " 10  valence       1000 non-null   object \n",
      "dtypes: float32(1), int64(2), object(8)\n",
      "memory usage: 82.2+ KB\n"
     ]
    }
   ],
   "source": [
    "df.info()"
   ]
  },
  {
   "cell_type": "code",
   "execution_count": 11,
   "id": "84b54acb",
   "metadata": {},
   "outputs": [
    {
     "data": {
      "text/plain": [
       "1.0"
      ]
     },
     "execution_count": 11,
     "metadata": {},
     "output_type": "execute_result"
    }
   ],
   "source": [
    "df.acousticness.max()"
   ]
  },
  {
   "cell_type": "markdown",
   "id": "fe244e99",
   "metadata": {},
   "source": [
    "Ahora debemos repetir el mismo proceso para todas las columnas que queremos transformar a `float`."
   ]
  },
  {
   "cell_type": "code",
   "execution_count": 12,
   "id": "19d610cd",
   "metadata": {
    "scrolled": false
   },
   "outputs": [
    {
     "data": {
      "text/html": [
       "<div>\n",
       "<style scoped>\n",
       "    .dataframe tbody tr th:only-of-type {\n",
       "        vertical-align: middle;\n",
       "    }\n",
       "\n",
       "    .dataframe tbody tr th {\n",
       "        vertical-align: top;\n",
       "    }\n",
       "\n",
       "    .dataframe thead th {\n",
       "        text-align: right;\n",
       "    }\n",
       "</style>\n",
       "<table border=\"1\" class=\"dataframe\">\n",
       "  <thead>\n",
       "    <tr style=\"text-align: right;\">\n",
       "      <th></th>\n",
       "      <th>genre</th>\n",
       "      <th>popularity</th>\n",
       "      <th>acousticness</th>\n",
       "      <th>danceability</th>\n",
       "      <th>duration_ms</th>\n",
       "      <th>energy</th>\n",
       "      <th>liveness</th>\n",
       "      <th>loudness</th>\n",
       "      <th>speechiness</th>\n",
       "      <th>tempo</th>\n",
       "      <th>valence</th>\n",
       "    </tr>\n",
       "  </thead>\n",
       "  <tbody>\n",
       "    <tr>\n",
       "      <th>0</th>\n",
       "      <td>Dance</td>\n",
       "      <td>99</td>\n",
       "      <td>0.04</td>\n",
       "      <td>0,73</td>\n",
       "      <td>190440</td>\n",
       "      <td>0,55</td>\n",
       "      <td>0,11</td>\n",
       "      <td>(5,29)</td>\n",
       "      <td>0,09</td>\n",
       "      <td>170,00</td>\n",
       "      <td>0,34</td>\n",
       "    </tr>\n",
       "    <tr>\n",
       "      <th>1</th>\n",
       "      <td>Dance</td>\n",
       "      <td>83</td>\n",
       "      <td>0.11</td>\n",
       "      <td>0,78</td>\n",
       "      <td>208787</td>\n",
       "      <td>0,61</td>\n",
       "      <td>0,13</td>\n",
       "      <td>(4,59)</td>\n",
       "      <td>0,05</td>\n",
       "      <td>100,07</td>\n",
       "      <td>0,80</td>\n",
       "    </tr>\n",
       "    <tr>\n",
       "      <th>2</th>\n",
       "      <td>Dance</td>\n",
       "      <td>87</td>\n",
       "      <td>0.04</td>\n",
       "      <td>0,74</td>\n",
       "      <td>222653</td>\n",
       "      <td>0,64</td>\n",
       "      <td>0,35</td>\n",
       "      <td>(4,55)</td>\n",
       "      <td>0,04</td>\n",
       "      <td>105,01</td>\n",
       "      <td>0,57</td>\n",
       "    </tr>\n",
       "    <tr>\n",
       "      <th>3</th>\n",
       "      <td>Dance</td>\n",
       "      <td>78</td>\n",
       "      <td>0.02</td>\n",
       "      <td>0,59</td>\n",
       "      <td>220573</td>\n",
       "      <td>0,70</td>\n",
       "      <td>0,06</td>\n",
       "      <td>(5,33)</td>\n",
       "      <td>0,04</td>\n",
       "      <td>104,96</td>\n",
       "      <td>0,25</td>\n",
       "    </tr>\n",
       "    <tr>\n",
       "      <th>4</th>\n",
       "      <td>Dance</td>\n",
       "      <td>72</td>\n",
       "      <td>0.42</td>\n",
       "      <td>0,73</td>\n",
       "      <td>200773</td>\n",
       "      <td>0,65</td>\n",
       "      <td>0,09</td>\n",
       "      <td>(4,39)</td>\n",
       "      <td>0,05</td>\n",
       "      <td>103,98</td>\n",
       "      <td>0,46</td>\n",
       "    </tr>\n",
       "    <tr>\n",
       "      <th>5</th>\n",
       "      <td>Dance</td>\n",
       "      <td>73</td>\n",
       "      <td>0.01</td>\n",
       "      <td>0,62</td>\n",
       "      <td>173082</td>\n",
       "      <td>0,87</td>\n",
       "      <td>0,20</td>\n",
       "      <td>(4,92)</td>\n",
       "      <td>0,04</td>\n",
       "      <td>98,03</td>\n",
       "      <td>0,58</td>\n",
       "    </tr>\n",
       "    <tr>\n",
       "      <th>6</th>\n",
       "      <td>Dance</td>\n",
       "      <td>71</td>\n",
       "      <td>0.06</td>\n",
       "      <td>0,80</td>\n",
       "      <td>190347</td>\n",
       "      <td>0,70</td>\n",
       "      <td>0,10</td>\n",
       "      <td>(5,22)</td>\n",
       "      <td>0,11</td>\n",
       "      <td>120,00</td>\n",
       "      <td>0,80</td>\n",
       "    </tr>\n",
       "    <tr>\n",
       "      <th>7</th>\n",
       "      <td>Dance</td>\n",
       "      <td>68</td>\n",
       "      <td>0.02</td>\n",
       "      <td>0,58</td>\n",
       "      <td>202439</td>\n",
       "      <td>0,68</td>\n",
       "      <td>0,08</td>\n",
       "      <td>(4,96)</td>\n",
       "      <td>0,04</td>\n",
       "      <td>129,97</td>\n",
       "      <td>0,04</td>\n",
       "    </tr>\n",
       "    <tr>\n",
       "      <th>8</th>\n",
       "      <td>Dance</td>\n",
       "      <td>72</td>\n",
       "      <td>0.17</td>\n",
       "      <td>0,66</td>\n",
       "      <td>263040</td>\n",
       "      <td>0,82</td>\n",
       "      <td>0,06</td>\n",
       "      <td>(6,61)</td>\n",
       "      <td>0,03</td>\n",
       "      <td>111,35</td>\n",
       "      <td>0,68</td>\n",
       "    </tr>\n",
       "    <tr>\n",
       "      <th>9</th>\n",
       "      <td>Dance</td>\n",
       "      <td>64</td>\n",
       "      <td>0.07</td>\n",
       "      <td>0,71</td>\n",
       "      <td>256040</td>\n",
       "      <td>0,91</td>\n",
       "      <td>0,50</td>\n",
       "      <td>(5,77)</td>\n",
       "      <td>0,04</td>\n",
       "      <td>98,60</td>\n",
       "      <td>0,94</td>\n",
       "    </tr>\n",
       "  </tbody>\n",
       "</table>\n",
       "</div>"
      ],
      "text/plain": [
       "   genre  popularity  acousticness danceability  duration_ms   energy  \\\n",
       "0  Dance          99          0.04        0,73        190440    0,55    \n",
       "1  Dance          83          0.11        0,78        208787    0,61    \n",
       "2  Dance          87          0.04        0,74        222653    0,64    \n",
       "3  Dance          78          0.02        0,59        220573    0,70    \n",
       "4  Dance          72          0.42        0,73        200773    0,65    \n",
       "5  Dance          73          0.01        0,62        173082    0,87    \n",
       "6  Dance          71          0.06        0,80        190347    0,70    \n",
       "7  Dance          68          0.02        0,58        202439    0,68    \n",
       "8  Dance          72          0.17        0,66        263040    0,82    \n",
       "9  Dance          64          0.07        0,71        256040    0,91    \n",
       "\n",
       "  liveness  loudness speechiness      tempo  valence  \n",
       "0    0,11     (5,29)       0,09     170,00     0,34   \n",
       "1    0,13     (4,59)       0,05     100,07     0,80   \n",
       "2    0,35     (4,55)       0,04     105,01     0,57   \n",
       "3    0,06     (5,33)       0,04     104,96     0,25   \n",
       "4    0,09     (4,39)       0,05     103,98     0,46   \n",
       "5    0,20     (4,92)       0,04      98,03     0,58   \n",
       "6    0,10     (5,22)       0,11     120,00     0,80   \n",
       "7    0,08     (4,96)       0,04     129,97     0,04   \n",
       "8    0,06     (6,61)       0,03     111,35     0,68   \n",
       "9    0,50     (5,77)       0,04      98,60     0,94   "
      ]
     },
     "execution_count": 12,
     "metadata": {},
     "output_type": "execute_result"
    }
   ],
   "source": [
    "df.head(10)"
   ]
  },
  {
   "cell_type": "code",
   "execution_count": 13,
   "id": "80328893",
   "metadata": {
    "scrolled": false
   },
   "outputs": [
    {
     "data": {
      "text/html": [
       "<div>\n",
       "<style scoped>\n",
       "    .dataframe tbody tr th:only-of-type {\n",
       "        vertical-align: middle;\n",
       "    }\n",
       "\n",
       "    .dataframe tbody tr th {\n",
       "        vertical-align: top;\n",
       "    }\n",
       "\n",
       "    .dataframe thead th {\n",
       "        text-align: right;\n",
       "    }\n",
       "</style>\n",
       "<table border=\"1\" class=\"dataframe\">\n",
       "  <thead>\n",
       "    <tr style=\"text-align: right;\">\n",
       "      <th></th>\n",
       "      <th>genre</th>\n",
       "      <th>popularity</th>\n",
       "      <th>acousticness</th>\n",
       "      <th>danceability</th>\n",
       "      <th>duration_ms</th>\n",
       "      <th>energy</th>\n",
       "      <th>liveness</th>\n",
       "      <th>loudness</th>\n",
       "      <th>speechiness</th>\n",
       "      <th>tempo</th>\n",
       "      <th>valence</th>\n",
       "    </tr>\n",
       "  </thead>\n",
       "  <tbody>\n",
       "    <tr>\n",
       "      <th>0</th>\n",
       "      <td>Dance</td>\n",
       "      <td>99</td>\n",
       "      <td>0.04</td>\n",
       "      <td>0.73</td>\n",
       "      <td>190440</td>\n",
       "      <td>0.55</td>\n",
       "      <td>0.11</td>\n",
       "      <td>5.29</td>\n",
       "      <td>0.09</td>\n",
       "      <td>170.000000</td>\n",
       "      <td>0.34</td>\n",
       "    </tr>\n",
       "    <tr>\n",
       "      <th>1</th>\n",
       "      <td>Dance</td>\n",
       "      <td>83</td>\n",
       "      <td>0.11</td>\n",
       "      <td>0.78</td>\n",
       "      <td>208787</td>\n",
       "      <td>0.61</td>\n",
       "      <td>0.13</td>\n",
       "      <td>4.59</td>\n",
       "      <td>0.05</td>\n",
       "      <td>100.070000</td>\n",
       "      <td>0.80</td>\n",
       "    </tr>\n",
       "    <tr>\n",
       "      <th>2</th>\n",
       "      <td>Dance</td>\n",
       "      <td>87</td>\n",
       "      <td>0.04</td>\n",
       "      <td>0.74</td>\n",
       "      <td>222653</td>\n",
       "      <td>0.64</td>\n",
       "      <td>0.35</td>\n",
       "      <td>4.55</td>\n",
       "      <td>0.04</td>\n",
       "      <td>105.010002</td>\n",
       "      <td>0.57</td>\n",
       "    </tr>\n",
       "    <tr>\n",
       "      <th>3</th>\n",
       "      <td>Dance</td>\n",
       "      <td>78</td>\n",
       "      <td>0.02</td>\n",
       "      <td>0.59</td>\n",
       "      <td>220573</td>\n",
       "      <td>0.70</td>\n",
       "      <td>0.06</td>\n",
       "      <td>5.33</td>\n",
       "      <td>0.04</td>\n",
       "      <td>104.959999</td>\n",
       "      <td>0.25</td>\n",
       "    </tr>\n",
       "    <tr>\n",
       "      <th>4</th>\n",
       "      <td>Dance</td>\n",
       "      <td>72</td>\n",
       "      <td>0.42</td>\n",
       "      <td>0.73</td>\n",
       "      <td>200773</td>\n",
       "      <td>0.65</td>\n",
       "      <td>0.09</td>\n",
       "      <td>4.39</td>\n",
       "      <td>0.05</td>\n",
       "      <td>103.980003</td>\n",
       "      <td>0.46</td>\n",
       "    </tr>\n",
       "    <tr>\n",
       "      <th>5</th>\n",
       "      <td>Dance</td>\n",
       "      <td>73</td>\n",
       "      <td>0.01</td>\n",
       "      <td>0.62</td>\n",
       "      <td>173082</td>\n",
       "      <td>0.87</td>\n",
       "      <td>0.20</td>\n",
       "      <td>4.92</td>\n",
       "      <td>0.04</td>\n",
       "      <td>98.029999</td>\n",
       "      <td>0.58</td>\n",
       "    </tr>\n",
       "    <tr>\n",
       "      <th>6</th>\n",
       "      <td>Dance</td>\n",
       "      <td>71</td>\n",
       "      <td>0.06</td>\n",
       "      <td>0.80</td>\n",
       "      <td>190347</td>\n",
       "      <td>0.70</td>\n",
       "      <td>0.10</td>\n",
       "      <td>5.22</td>\n",
       "      <td>0.11</td>\n",
       "      <td>120.000000</td>\n",
       "      <td>0.80</td>\n",
       "    </tr>\n",
       "    <tr>\n",
       "      <th>7</th>\n",
       "      <td>Dance</td>\n",
       "      <td>68</td>\n",
       "      <td>0.02</td>\n",
       "      <td>0.58</td>\n",
       "      <td>202439</td>\n",
       "      <td>0.68</td>\n",
       "      <td>0.08</td>\n",
       "      <td>4.96</td>\n",
       "      <td>0.04</td>\n",
       "      <td>129.970001</td>\n",
       "      <td>0.04</td>\n",
       "    </tr>\n",
       "    <tr>\n",
       "      <th>8</th>\n",
       "      <td>Dance</td>\n",
       "      <td>72</td>\n",
       "      <td>0.17</td>\n",
       "      <td>0.66</td>\n",
       "      <td>263040</td>\n",
       "      <td>0.82</td>\n",
       "      <td>0.06</td>\n",
       "      <td>6.61</td>\n",
       "      <td>0.03</td>\n",
       "      <td>111.349998</td>\n",
       "      <td>0.68</td>\n",
       "    </tr>\n",
       "    <tr>\n",
       "      <th>9</th>\n",
       "      <td>Dance</td>\n",
       "      <td>64</td>\n",
       "      <td>0.07</td>\n",
       "      <td>0.71</td>\n",
       "      <td>256040</td>\n",
       "      <td>0.91</td>\n",
       "      <td>0.50</td>\n",
       "      <td>5.77</td>\n",
       "      <td>0.04</td>\n",
       "      <td>98.599998</td>\n",
       "      <td>0.94</td>\n",
       "    </tr>\n",
       "  </tbody>\n",
       "</table>\n",
       "</div>"
      ],
      "text/plain": [
       "   genre  popularity  acousticness  danceability  duration_ms  energy  \\\n",
       "0  Dance          99          0.04          0.73       190440    0.55   \n",
       "1  Dance          83          0.11          0.78       208787    0.61   \n",
       "2  Dance          87          0.04          0.74       222653    0.64   \n",
       "3  Dance          78          0.02          0.59       220573    0.70   \n",
       "4  Dance          72          0.42          0.73       200773    0.65   \n",
       "5  Dance          73          0.01          0.62       173082    0.87   \n",
       "6  Dance          71          0.06          0.80       190347    0.70   \n",
       "7  Dance          68          0.02          0.58       202439    0.68   \n",
       "8  Dance          72          0.17          0.66       263040    0.82   \n",
       "9  Dance          64          0.07          0.71       256040    0.91   \n",
       "\n",
       "   liveness  loudness  speechiness       tempo  valence  \n",
       "0      0.11      5.29         0.09  170.000000     0.34  \n",
       "1      0.13      4.59         0.05  100.070000     0.80  \n",
       "2      0.35      4.55         0.04  105.010002     0.57  \n",
       "3      0.06      5.33         0.04  104.959999     0.25  \n",
       "4      0.09      4.39         0.05  103.980003     0.46  \n",
       "5      0.20      4.92         0.04   98.029999     0.58  \n",
       "6      0.10      5.22         0.11  120.000000     0.80  \n",
       "7      0.08      4.96         0.04  129.970001     0.04  \n",
       "8      0.06      6.61         0.03  111.349998     0.68  \n",
       "9      0.50      5.77         0.04   98.599998     0.94  "
      ]
     },
     "execution_count": 13,
     "metadata": {},
     "output_type": "execute_result"
    }
   ],
   "source": [
    "to_transform = ['danceability', 'energy', 'liveness', 'speechiness',\n",
    "                'valence', 'loudness', 'tempo']\n",
    "for col in to_transform:\n",
    "    df[col] = df[col].apply(lambda x: x.strip()\\\n",
    "                                       .replace(',','.')\\\n",
    "                                       .replace('(', '')\\\n",
    "                                       .replace(')', ''))\\\n",
    "                     .astype(np.float32)\n",
    "df.head(10)"
   ]
  },
  {
   "cell_type": "code",
   "execution_count": 14,
   "id": "a49c547c",
   "metadata": {
    "scrolled": true
   },
   "outputs": [
    {
     "name": "stdout",
     "output_type": "stream",
     "text": [
      "<class 'pandas.core.frame.DataFrame'>\n",
      "RangeIndex: 1000 entries, 0 to 999\n",
      "Data columns (total 11 columns):\n",
      " #   Column        Non-Null Count  Dtype  \n",
      "---  ------        --------------  -----  \n",
      " 0   genre         1000 non-null   object \n",
      " 1   popularity    1000 non-null   int64  \n",
      " 2   acousticness  1000 non-null   float32\n",
      " 3   danceability  1000 non-null   float32\n",
      " 4   duration_ms   1000 non-null   int64  \n",
      " 5   energy        1000 non-null   float32\n",
      " 6   liveness      1000 non-null   float32\n",
      " 7   loudness      1000 non-null   float32\n",
      " 8   speechiness   1000 non-null   float32\n",
      " 9   tempo         1000 non-null   float32\n",
      " 10  valence       1000 non-null   float32\n",
      "dtypes: float32(8), int64(2), object(1)\n",
      "memory usage: 54.8+ KB\n"
     ]
    }
   ],
   "source": [
    "df.info()"
   ]
  },
  {
   "cell_type": "markdown",
   "id": "fc477a4b",
   "metadata": {},
   "source": [
    "### Optimizaciones al Espacio"
   ]
  },
  {
   "cell_type": "markdown",
   "id": "4c951bb7",
   "metadata": {},
   "source": [
    "Por último vamos a optimizar el espacio que ocupan los datos enteros. Veamos el máximo y mínimo valor que tienen estas columnas junto a los tipos a los que los vamos a transformar:"
   ]
  },
  {
   "cell_type": "code",
   "execution_count": 15,
   "id": "b9d12be8",
   "metadata": {},
   "outputs": [
    {
     "data": {
      "text/plain": [
       "(2, 99, iinfo(min=-128, max=127, dtype=int8))"
      ]
     },
     "execution_count": 15,
     "metadata": {},
     "output_type": "execute_result"
    }
   ],
   "source": [
    "df.popularity.min(), df.popularity.max(), np.iinfo(np.int8)"
   ]
  },
  {
   "cell_type": "code",
   "execution_count": 16,
   "id": "6e33a4d7",
   "metadata": {},
   "outputs": [
    {
     "data": {
      "text/plain": [
       "(33160, 1747733, iinfo(min=-2147483648, max=2147483647, dtype=int32))"
      ]
     },
     "execution_count": 16,
     "metadata": {},
     "output_type": "execute_result"
    }
   ],
   "source": [
    "df.duration_ms.min(), df.duration_ms.max(), np.iinfo(np.int32)"
   ]
  },
  {
   "cell_type": "markdown",
   "id": "5ad50c50",
   "metadata": {},
   "source": [
    "`Popularity` será un `int8` ya que es el mínimo tipo entero que puede contener los datos de la columna dentro de su rango (los valores oscilan entre 2 y 99, por lo que se puede representar perfectamente con un `int8`). La misma lógica se aplica a `duration_ms`."
   ]
  },
  {
   "cell_type": "code",
   "execution_count": 17,
   "id": "6b129ba0",
   "metadata": {
    "scrolled": false
   },
   "outputs": [
    {
     "data": {
      "text/html": [
       "<div>\n",
       "<style scoped>\n",
       "    .dataframe tbody tr th:only-of-type {\n",
       "        vertical-align: middle;\n",
       "    }\n",
       "\n",
       "    .dataframe tbody tr th {\n",
       "        vertical-align: top;\n",
       "    }\n",
       "\n",
       "    .dataframe thead th {\n",
       "        text-align: right;\n",
       "    }\n",
       "</style>\n",
       "<table border=\"1\" class=\"dataframe\">\n",
       "  <thead>\n",
       "    <tr style=\"text-align: right;\">\n",
       "      <th></th>\n",
       "      <th>genre</th>\n",
       "      <th>popularity</th>\n",
       "      <th>acousticness</th>\n",
       "      <th>danceability</th>\n",
       "      <th>duration_ms</th>\n",
       "      <th>energy</th>\n",
       "      <th>liveness</th>\n",
       "      <th>loudness</th>\n",
       "      <th>speechiness</th>\n",
       "      <th>tempo</th>\n",
       "      <th>valence</th>\n",
       "    </tr>\n",
       "  </thead>\n",
       "  <tbody>\n",
       "    <tr>\n",
       "      <th>0</th>\n",
       "      <td>Dance</td>\n",
       "      <td>99</td>\n",
       "      <td>0.04</td>\n",
       "      <td>0.73</td>\n",
       "      <td>190440</td>\n",
       "      <td>0.55</td>\n",
       "      <td>0.11</td>\n",
       "      <td>5.29</td>\n",
       "      <td>0.09</td>\n",
       "      <td>170.000000</td>\n",
       "      <td>0.34</td>\n",
       "    </tr>\n",
       "    <tr>\n",
       "      <th>1</th>\n",
       "      <td>Dance</td>\n",
       "      <td>83</td>\n",
       "      <td>0.11</td>\n",
       "      <td>0.78</td>\n",
       "      <td>208787</td>\n",
       "      <td>0.61</td>\n",
       "      <td>0.13</td>\n",
       "      <td>4.59</td>\n",
       "      <td>0.05</td>\n",
       "      <td>100.070000</td>\n",
       "      <td>0.80</td>\n",
       "    </tr>\n",
       "    <tr>\n",
       "      <th>2</th>\n",
       "      <td>Dance</td>\n",
       "      <td>87</td>\n",
       "      <td>0.04</td>\n",
       "      <td>0.74</td>\n",
       "      <td>222653</td>\n",
       "      <td>0.64</td>\n",
       "      <td>0.35</td>\n",
       "      <td>4.55</td>\n",
       "      <td>0.04</td>\n",
       "      <td>105.010002</td>\n",
       "      <td>0.57</td>\n",
       "    </tr>\n",
       "    <tr>\n",
       "      <th>3</th>\n",
       "      <td>Dance</td>\n",
       "      <td>78</td>\n",
       "      <td>0.02</td>\n",
       "      <td>0.59</td>\n",
       "      <td>220573</td>\n",
       "      <td>0.70</td>\n",
       "      <td>0.06</td>\n",
       "      <td>5.33</td>\n",
       "      <td>0.04</td>\n",
       "      <td>104.959999</td>\n",
       "      <td>0.25</td>\n",
       "    </tr>\n",
       "    <tr>\n",
       "      <th>4</th>\n",
       "      <td>Dance</td>\n",
       "      <td>72</td>\n",
       "      <td>0.42</td>\n",
       "      <td>0.73</td>\n",
       "      <td>200773</td>\n",
       "      <td>0.65</td>\n",
       "      <td>0.09</td>\n",
       "      <td>4.39</td>\n",
       "      <td>0.05</td>\n",
       "      <td>103.980003</td>\n",
       "      <td>0.46</td>\n",
       "    </tr>\n",
       "    <tr>\n",
       "      <th>...</th>\n",
       "      <td>...</td>\n",
       "      <td>...</td>\n",
       "      <td>...</td>\n",
       "      <td>...</td>\n",
       "      <td>...</td>\n",
       "      <td>...</td>\n",
       "      <td>...</td>\n",
       "      <td>...</td>\n",
       "      <td>...</td>\n",
       "      <td>...</td>\n",
       "      <td>...</td>\n",
       "    </tr>\n",
       "    <tr>\n",
       "      <th>995</th>\n",
       "      <td>Soul</td>\n",
       "      <td>42</td>\n",
       "      <td>0.73</td>\n",
       "      <td>0.59</td>\n",
       "      <td>146693</td>\n",
       "      <td>0.38</td>\n",
       "      <td>0.39</td>\n",
       "      <td>8.91</td>\n",
       "      <td>0.03</td>\n",
       "      <td>85.209999</td>\n",
       "      <td>0.64</td>\n",
       "    </tr>\n",
       "    <tr>\n",
       "      <th>996</th>\n",
       "      <td>Soul</td>\n",
       "      <td>43</td>\n",
       "      <td>0.00</td>\n",
       "      <td>0.45</td>\n",
       "      <td>175427</td>\n",
       "      <td>0.64</td>\n",
       "      <td>0.13</td>\n",
       "      <td>5.67</td>\n",
       "      <td>0.03</td>\n",
       "      <td>89.849998</td>\n",
       "      <td>0.09</td>\n",
       "    </tr>\n",
       "    <tr>\n",
       "      <th>997</th>\n",
       "      <td>Soul</td>\n",
       "      <td>41</td>\n",
       "      <td>0.00</td>\n",
       "      <td>0.51</td>\n",
       "      <td>303640</td>\n",
       "      <td>0.62</td>\n",
       "      <td>0.11</td>\n",
       "      <td>7.07</td>\n",
       "      <td>0.20</td>\n",
       "      <td>91.900002</td>\n",
       "      <td>0.25</td>\n",
       "    </tr>\n",
       "    <tr>\n",
       "      <th>998</th>\n",
       "      <td>Soul</td>\n",
       "      <td>44</td>\n",
       "      <td>0.43</td>\n",
       "      <td>0.67</td>\n",
       "      <td>246787</td>\n",
       "      <td>0.57</td>\n",
       "      <td>0.12</td>\n",
       "      <td>5.68</td>\n",
       "      <td>0.08</td>\n",
       "      <td>97.129997</td>\n",
       "      <td>0.51</td>\n",
       "    </tr>\n",
       "    <tr>\n",
       "      <th>999</th>\n",
       "      <td>Soul</td>\n",
       "      <td>42</td>\n",
       "      <td>0.06</td>\n",
       "      <td>0.78</td>\n",
       "      <td>200533</td>\n",
       "      <td>0.38</td>\n",
       "      <td>0.11</td>\n",
       "      <td>9.59</td>\n",
       "      <td>0.03</td>\n",
       "      <td>106.019997</td>\n",
       "      <td>0.34</td>\n",
       "    </tr>\n",
       "  </tbody>\n",
       "</table>\n",
       "<p>1000 rows × 11 columns</p>\n",
       "</div>"
      ],
      "text/plain": [
       "     genre  popularity  acousticness  danceability  duration_ms  energy  \\\n",
       "0    Dance          99          0.04          0.73       190440    0.55   \n",
       "1    Dance          83          0.11          0.78       208787    0.61   \n",
       "2    Dance          87          0.04          0.74       222653    0.64   \n",
       "3    Dance          78          0.02          0.59       220573    0.70   \n",
       "4    Dance          72          0.42          0.73       200773    0.65   \n",
       "..     ...         ...           ...           ...          ...     ...   \n",
       "995   Soul          42          0.73          0.59       146693    0.38   \n",
       "996   Soul          43          0.00          0.45       175427    0.64   \n",
       "997   Soul          41          0.00          0.51       303640    0.62   \n",
       "998   Soul          44          0.43          0.67       246787    0.57   \n",
       "999   Soul          42          0.06          0.78       200533    0.38   \n",
       "\n",
       "     liveness  loudness  speechiness       tempo  valence  \n",
       "0        0.11      5.29         0.09  170.000000     0.34  \n",
       "1        0.13      4.59         0.05  100.070000     0.80  \n",
       "2        0.35      4.55         0.04  105.010002     0.57  \n",
       "3        0.06      5.33         0.04  104.959999     0.25  \n",
       "4        0.09      4.39         0.05  103.980003     0.46  \n",
       "..        ...       ...          ...         ...      ...  \n",
       "995      0.39      8.91         0.03   85.209999     0.64  \n",
       "996      0.13      5.67         0.03   89.849998     0.09  \n",
       "997      0.11      7.07         0.20   91.900002     0.25  \n",
       "998      0.12      5.68         0.08   97.129997     0.51  \n",
       "999      0.11      9.59         0.03  106.019997     0.34  \n",
       "\n",
       "[1000 rows x 11 columns]"
      ]
     },
     "execution_count": 17,
     "metadata": {},
     "output_type": "execute_result"
    }
   ],
   "source": [
    "df['popularity'] = df['popularity'].astype(np.int8)\n",
    "df['duration_ms'] = df['duration_ms'].astype(np.int32)\n",
    "df"
   ]
  },
  {
   "cell_type": "code",
   "execution_count": 18,
   "id": "cebe746b",
   "metadata": {
    "scrolled": false
   },
   "outputs": [
    {
     "name": "stdout",
     "output_type": "stream",
     "text": [
      "<class 'pandas.core.frame.DataFrame'>\n",
      "RangeIndex: 1000 entries, 0 to 999\n",
      "Data columns (total 11 columns):\n",
      " #   Column        Non-Null Count  Dtype  \n",
      "---  ------        --------------  -----  \n",
      " 0   genre         1000 non-null   object \n",
      " 1   popularity    1000 non-null   int8   \n",
      " 2   acousticness  1000 non-null   float32\n",
      " 3   danceability  1000 non-null   float32\n",
      " 4   duration_ms   1000 non-null   int32  \n",
      " 5   energy        1000 non-null   float32\n",
      " 6   liveness      1000 non-null   float32\n",
      " 7   loudness      1000 non-null   float32\n",
      " 8   speechiness   1000 non-null   float32\n",
      " 9   tempo         1000 non-null   float32\n",
      " 10  valence       1000 non-null   float32\n",
      "dtypes: float32(8), int32(1), int8(1), object(1)\n",
      "memory usage: 44.1+ KB\n"
     ]
    }
   ],
   "source": [
    "df.info()"
   ]
  },
  {
   "cell_type": "markdown",
   "id": "9e9565d7",
   "metadata": {},
   "source": [
    "Finalmente vemos que el dataframe original ocupaba ~3.4 veces más espacio en memoria. En este caso al estar trabajando en el orden de los KB no es una optimización importante, pero si el tamaño del archivo escala, también lo harán las optimizaciones aplicadas sin perder valores del dataframe."
   ]
  },
  {
   "cell_type": "markdown",
   "id": "1f23bb29",
   "metadata": {},
   "source": [
    "## Análisis Exploratiorio"
   ]
  },
  {
   "cell_type": "markdown",
   "id": "8f137cbf",
   "metadata": {},
   "source": [
    "### Explicación de las Columnas"
   ]
  },
  {
   "cell_type": "markdown",
   "id": "36e11311",
   "metadata": {},
   "source": [
    "Información del dataframe en función del tipo:\n",
    "\n",
    " - Object (en este caso, un String):\n",
    "     - genre: género musical correspondiente a la canción\n",
    " - Ints:\n",
    "     - popularity: índice de popularidad de la canción\t\n",
    "     - duration_ms: duración\t\t\t\t\t\n",
    " - Floats:\n",
    "    - acousticness: medida de confianza de si la canción es acústica\t\t\t\t\t\n",
    "    - danceability: adecuación para ser bailada\t\t\t\t\t\n",
    "    - energy: perceptiva de intensidad\t\t\t\t\t\n",
    "    - liveness: presencia de audiencia en la grabación\t\t\t\t\t\n",
    "    - loudness: volumen\t\t\t\t\t\n",
    "    - speechiness: presencia de palabras en la canción\t\t\t\t\t\n",
    "    - tempo: golpes por minuto\t\t\t\t\t\n",
    "    - valence: positividad que trasmite la canción\t\t\t\t\t"
   ]
  },
  {
   "cell_type": "code",
   "execution_count": 19,
   "id": "eba8070e",
   "metadata": {
    "scrolled": true
   },
   "outputs": [
    {
     "data": {
      "text/html": [
       "<div>\n",
       "<style scoped>\n",
       "    .dataframe tbody tr th:only-of-type {\n",
       "        vertical-align: middle;\n",
       "    }\n",
       "\n",
       "    .dataframe tbody tr th {\n",
       "        vertical-align: top;\n",
       "    }\n",
       "\n",
       "    .dataframe thead th {\n",
       "        text-align: right;\n",
       "    }\n",
       "</style>\n",
       "<table border=\"1\" class=\"dataframe\">\n",
       "  <thead>\n",
       "    <tr style=\"text-align: right;\">\n",
       "      <th></th>\n",
       "      <th>genre</th>\n",
       "      <th>popularity</th>\n",
       "      <th>acousticness</th>\n",
       "      <th>danceability</th>\n",
       "      <th>duration_ms</th>\n",
       "      <th>energy</th>\n",
       "      <th>liveness</th>\n",
       "      <th>loudness</th>\n",
       "      <th>speechiness</th>\n",
       "      <th>tempo</th>\n",
       "      <th>valence</th>\n",
       "    </tr>\n",
       "  </thead>\n",
       "  <tbody>\n",
       "    <tr>\n",
       "      <th>0</th>\n",
       "      <td>Dance</td>\n",
       "      <td>99</td>\n",
       "      <td>0.04</td>\n",
       "      <td>0.73</td>\n",
       "      <td>190440</td>\n",
       "      <td>0.55</td>\n",
       "      <td>0.11</td>\n",
       "      <td>5.29</td>\n",
       "      <td>0.09</td>\n",
       "      <td>170.000000</td>\n",
       "      <td>0.34</td>\n",
       "    </tr>\n",
       "    <tr>\n",
       "      <th>1</th>\n",
       "      <td>Dance</td>\n",
       "      <td>83</td>\n",
       "      <td>0.11</td>\n",
       "      <td>0.78</td>\n",
       "      <td>208787</td>\n",
       "      <td>0.61</td>\n",
       "      <td>0.13</td>\n",
       "      <td>4.59</td>\n",
       "      <td>0.05</td>\n",
       "      <td>100.070000</td>\n",
       "      <td>0.80</td>\n",
       "    </tr>\n",
       "    <tr>\n",
       "      <th>2</th>\n",
       "      <td>Dance</td>\n",
       "      <td>87</td>\n",
       "      <td>0.04</td>\n",
       "      <td>0.74</td>\n",
       "      <td>222653</td>\n",
       "      <td>0.64</td>\n",
       "      <td>0.35</td>\n",
       "      <td>4.55</td>\n",
       "      <td>0.04</td>\n",
       "      <td>105.010002</td>\n",
       "      <td>0.57</td>\n",
       "    </tr>\n",
       "    <tr>\n",
       "      <th>3</th>\n",
       "      <td>Dance</td>\n",
       "      <td>78</td>\n",
       "      <td>0.02</td>\n",
       "      <td>0.59</td>\n",
       "      <td>220573</td>\n",
       "      <td>0.70</td>\n",
       "      <td>0.06</td>\n",
       "      <td>5.33</td>\n",
       "      <td>0.04</td>\n",
       "      <td>104.959999</td>\n",
       "      <td>0.25</td>\n",
       "    </tr>\n",
       "    <tr>\n",
       "      <th>4</th>\n",
       "      <td>Dance</td>\n",
       "      <td>72</td>\n",
       "      <td>0.42</td>\n",
       "      <td>0.73</td>\n",
       "      <td>200773</td>\n",
       "      <td>0.65</td>\n",
       "      <td>0.09</td>\n",
       "      <td>4.39</td>\n",
       "      <td>0.05</td>\n",
       "      <td>103.980003</td>\n",
       "      <td>0.46</td>\n",
       "    </tr>\n",
       "    <tr>\n",
       "      <th>5</th>\n",
       "      <td>Dance</td>\n",
       "      <td>73</td>\n",
       "      <td>0.01</td>\n",
       "      <td>0.62</td>\n",
       "      <td>173082</td>\n",
       "      <td>0.87</td>\n",
       "      <td>0.20</td>\n",
       "      <td>4.92</td>\n",
       "      <td>0.04</td>\n",
       "      <td>98.029999</td>\n",
       "      <td>0.58</td>\n",
       "    </tr>\n",
       "    <tr>\n",
       "      <th>6</th>\n",
       "      <td>Dance</td>\n",
       "      <td>71</td>\n",
       "      <td>0.06</td>\n",
       "      <td>0.80</td>\n",
       "      <td>190347</td>\n",
       "      <td>0.70</td>\n",
       "      <td>0.10</td>\n",
       "      <td>5.22</td>\n",
       "      <td>0.11</td>\n",
       "      <td>120.000000</td>\n",
       "      <td>0.80</td>\n",
       "    </tr>\n",
       "    <tr>\n",
       "      <th>7</th>\n",
       "      <td>Dance</td>\n",
       "      <td>68</td>\n",
       "      <td>0.02</td>\n",
       "      <td>0.58</td>\n",
       "      <td>202439</td>\n",
       "      <td>0.68</td>\n",
       "      <td>0.08</td>\n",
       "      <td>4.96</td>\n",
       "      <td>0.04</td>\n",
       "      <td>129.970001</td>\n",
       "      <td>0.04</td>\n",
       "    </tr>\n",
       "    <tr>\n",
       "      <th>8</th>\n",
       "      <td>Dance</td>\n",
       "      <td>72</td>\n",
       "      <td>0.17</td>\n",
       "      <td>0.66</td>\n",
       "      <td>263040</td>\n",
       "      <td>0.82</td>\n",
       "      <td>0.06</td>\n",
       "      <td>6.61</td>\n",
       "      <td>0.03</td>\n",
       "      <td>111.349998</td>\n",
       "      <td>0.68</td>\n",
       "    </tr>\n",
       "    <tr>\n",
       "      <th>9</th>\n",
       "      <td>Dance</td>\n",
       "      <td>64</td>\n",
       "      <td>0.07</td>\n",
       "      <td>0.71</td>\n",
       "      <td>256040</td>\n",
       "      <td>0.91</td>\n",
       "      <td>0.50</td>\n",
       "      <td>5.77</td>\n",
       "      <td>0.04</td>\n",
       "      <td>98.599998</td>\n",
       "      <td>0.94</td>\n",
       "    </tr>\n",
       "  </tbody>\n",
       "</table>\n",
       "</div>"
      ],
      "text/plain": [
       "   genre  popularity  acousticness  danceability  duration_ms  energy  \\\n",
       "0  Dance          99          0.04          0.73       190440    0.55   \n",
       "1  Dance          83          0.11          0.78       208787    0.61   \n",
       "2  Dance          87          0.04          0.74       222653    0.64   \n",
       "3  Dance          78          0.02          0.59       220573    0.70   \n",
       "4  Dance          72          0.42          0.73       200773    0.65   \n",
       "5  Dance          73          0.01          0.62       173082    0.87   \n",
       "6  Dance          71          0.06          0.80       190347    0.70   \n",
       "7  Dance          68          0.02          0.58       202439    0.68   \n",
       "8  Dance          72          0.17          0.66       263040    0.82   \n",
       "9  Dance          64          0.07          0.71       256040    0.91   \n",
       "\n",
       "   liveness  loudness  speechiness       tempo  valence  \n",
       "0      0.11      5.29         0.09  170.000000     0.34  \n",
       "1      0.13      4.59         0.05  100.070000     0.80  \n",
       "2      0.35      4.55         0.04  105.010002     0.57  \n",
       "3      0.06      5.33         0.04  104.959999     0.25  \n",
       "4      0.09      4.39         0.05  103.980003     0.46  \n",
       "5      0.20      4.92         0.04   98.029999     0.58  \n",
       "6      0.10      5.22         0.11  120.000000     0.80  \n",
       "7      0.08      4.96         0.04  129.970001     0.04  \n",
       "8      0.06      6.61         0.03  111.349998     0.68  \n",
       "9      0.50      5.77         0.04   98.599998     0.94  "
      ]
     },
     "execution_count": 19,
     "metadata": {},
     "output_type": "execute_result"
    }
   ],
   "source": [
    "df.head(10)"
   ]
  },
  {
   "cell_type": "markdown",
   "id": "8fdc6321",
   "metadata": {},
   "source": [
    "### 1) Exploración\n",
    "\n",
    "Vamos a analizar diferentes columnas del dataframe para ver como se comportan los diferentes géneros musicales y entender como se comportan entre sí.\n",
    "\n",
    "```markdown\n",
    "ACA SE PUEDEN ARMAR GRÁFICOS INDIVIDUALES\n",
    "```"
   ]
  },
  {
   "cell_type": "code",
   "execution_count": null,
   "id": "631622a1",
   "metadata": {},
   "outputs": [],
   "source": []
  },
  {
   "cell_type": "code",
   "execution_count": 20,
   "id": "01844cde",
   "metadata": {},
   "outputs": [
    {
     "data": {
      "image/png": "[encoded data removed]",
      "text/plain": [
       "<Figure size 2160x720 with 1 Axes>"
      ]
     },
     "metadata": {
      "needs_background": "light"
     },
     "output_type": "display_data"
    }
   ],
   "source": [
    "f = plt.figure(figsize=(30, 10))\n",
    "plt.matshow(df.set_index(['genre']).corr(), fignum=f.number)\n",
    "plt.xticks(list(range(len(df.columns))), df.columns, fontsize=12, rotation=45)\n",
    "plt.yticks(list(range(len(df.columns))), df.columns, fontsize=12)\n",
    "plt.show()"
   ]
  },
  {
   "cell_type": "markdown",
   "id": "93e73571",
   "metadata": {},
   "source": [
    "Un dato que nos resulto interesante analizar es la media de tiempo de las canciones que se encuentran en el dataset."
   ]
  },
  {
   "cell_type": "code",
   "execution_count": 21,
   "id": "65368424",
   "metadata": {},
   "outputs": [
    {
     "name": "stderr",
     "output_type": "stream",
     "text": [
      "C:\\Users\\Agus\\AppData\\Local\\Temp\\ipykernel_12064\\3102000834.py:2: SettingWithCopyWarning: \n",
      "A value is trying to be set on a copy of a slice from a DataFrame.\n",
      "Try using .loc[row_indexer,col_indexer] = value instead\n",
      "\n",
      "See the caveats in the documentation: https://pandas.pydata.org/pandas-docs/stable/user_guide/indexing.html#returning-a-view-versus-a-copy\n",
      "  durations[\"duration_seg\"] = durations[\"duration_ms\"] / 1000\n"
     ]
    },
    {
     "data": {
      "text/html": [
       "<div>\n",
       "<style scoped>\n",
       "    .dataframe tbody tr th:only-of-type {\n",
       "        vertical-align: middle;\n",
       "    }\n",
       "\n",
       "    .dataframe tbody tr th {\n",
       "        vertical-align: top;\n",
       "    }\n",
       "\n",
       "    .dataframe thead th {\n",
       "        text-align: right;\n",
       "    }\n",
       "</style>\n",
       "<table border=\"1\" class=\"dataframe\">\n",
       "  <thead>\n",
       "    <tr style=\"text-align: right;\">\n",
       "      <th></th>\n",
       "      <th>duration_ms</th>\n",
       "      <th>duration_seg</th>\n",
       "    </tr>\n",
       "  </thead>\n",
       "  <tbody>\n",
       "    <tr>\n",
       "      <th>0</th>\n",
       "      <td>190440</td>\n",
       "      <td>190.440</td>\n",
       "    </tr>\n",
       "    <tr>\n",
       "      <th>1</th>\n",
       "      <td>208787</td>\n",
       "      <td>208.787</td>\n",
       "    </tr>\n",
       "    <tr>\n",
       "      <th>2</th>\n",
       "      <td>222653</td>\n",
       "      <td>222.653</td>\n",
       "    </tr>\n",
       "    <tr>\n",
       "      <th>3</th>\n",
       "      <td>220573</td>\n",
       "      <td>220.573</td>\n",
       "    </tr>\n",
       "    <tr>\n",
       "      <th>4</th>\n",
       "      <td>200773</td>\n",
       "      <td>200.773</td>\n",
       "    </tr>\n",
       "    <tr>\n",
       "      <th>...</th>\n",
       "      <td>...</td>\n",
       "      <td>...</td>\n",
       "    </tr>\n",
       "    <tr>\n",
       "      <th>995</th>\n",
       "      <td>146693</td>\n",
       "      <td>146.693</td>\n",
       "    </tr>\n",
       "    <tr>\n",
       "      <th>996</th>\n",
       "      <td>175427</td>\n",
       "      <td>175.427</td>\n",
       "    </tr>\n",
       "    <tr>\n",
       "      <th>997</th>\n",
       "      <td>303640</td>\n",
       "      <td>303.640</td>\n",
       "    </tr>\n",
       "    <tr>\n",
       "      <th>998</th>\n",
       "      <td>246787</td>\n",
       "      <td>246.787</td>\n",
       "    </tr>\n",
       "    <tr>\n",
       "      <th>999</th>\n",
       "      <td>200533</td>\n",
       "      <td>200.533</td>\n",
       "    </tr>\n",
       "  </tbody>\n",
       "</table>\n",
       "<p>1000 rows × 2 columns</p>\n",
       "</div>"
      ],
      "text/plain": [
       "     duration_ms  duration_seg\n",
       "0         190440       190.440\n",
       "1         208787       208.787\n",
       "2         222653       222.653\n",
       "3         220573       220.573\n",
       "4         200773       200.773\n",
       "..           ...           ...\n",
       "995       146693       146.693\n",
       "996       175427       175.427\n",
       "997       303640       303.640\n",
       "998       246787       246.787\n",
       "999       200533       200.533\n",
       "\n",
       "[1000 rows x 2 columns]"
      ]
     },
     "execution_count": 21,
     "metadata": {},
     "output_type": "execute_result"
    }
   ],
   "source": [
    "durations = df[[\"duration_ms\"]]\n",
    "durations[\"duration_seg\"] = durations[\"duration_ms\"] / 1000\n",
    "durations"
   ]
  },
  {
   "cell_type": "code",
   "execution_count": 22,
   "id": "d15d027f",
   "metadata": {},
   "outputs": [
    {
     "data": {
      "image/png": "[encoded data removed]",
      "text/plain": [
       "<Figure size 432x288 with 1 Axes>"
      ]
     },
     "metadata": {
      "needs_background": "light"
     },
     "output_type": "display_data"
    },
    {
     "data": {
      "image/png": "[encoded data removed]",
      "text/plain": [
       "<Figure size 432x288 with 1 Axes>"
      ]
     },
     "metadata": {
      "needs_background": "light"
     },
     "output_type": "display_data"
    }
   ],
   "source": [
    "durations.boxplot(column=[\"duration_seg\"])\n",
    "\n",
    "fig, axes = plt.subplots()\n",
    "\n",
    "axes.violinplot(dataset = [durations[\"duration_seg\"]] )\n",
    "\n",
    "plt.show()"
   ]
  },
  {
   "cell_type": "markdown",
   "id": "fb5f681b",
   "metadata": {},
   "source": [
    "Este boxplot nos muestra que casi la totalidad de las canciones tienen una duracion entre 100 y 400 segundos y que la media de duracion es aproximadamente menor a 240 segundos. El violinplot, por otro lado, muestra que la cantidad de canciones con una duracion similar a la media es extremadamente alta."
   ]
  },
  {
   "cell_type": "markdown",
   "id": "018cfcc5",
   "metadata": {},
   "source": [
    "Otro dato interesante y que nos sera util para una de nuestras preguntas es la media de energia segun el genero, donde podemos apreciar una gran diferencia entre clasico y opera con respecto al resto de los generos."
   ]
  },
  {
   "cell_type": "code",
   "execution_count": 23,
   "id": "586d1c31",
   "metadata": {},
   "outputs": [
    {
     "data": {
      "text/plain": [
       "<AxesSubplot:xlabel='genre'>"
      ]
     },
     "execution_count": 23,
     "metadata": {},
     "output_type": "execute_result"
    },
    {
     "data": {
      "image/png": "[encoded data removed]",
      "text/plain": [
       "<Figure size 432x288 with 1 Axes>"
      ]
     },
     "metadata": {
      "needs_background": "light"
     },
     "output_type": "display_data"
    }
   ],
   "source": [
    "df.groupby(\"genre\").agg({'energy': ['mean']}).plot.bar()"
   ]
  },
  {
   "cell_type": "markdown",
   "id": "29e898b5",
   "metadata": {},
   "source": [
    "Ademas de ver algunos valores, se pueden comparar para obtener informacion relevante de los mismos. En un primer ejemplo podemos obtener las medias de energia y positividad segun el genero."
   ]
  },
  {
   "cell_type": "code",
   "execution_count": 38,
   "id": "cca5135e",
   "metadata": {},
   "outputs": [
    {
     "data": {
      "text/plain": [
       "<AxesSubplot:xlabel='genre'>"
      ]
     },
     "execution_count": 38,
     "metadata": {},
     "output_type": "execute_result"
    },
    {
     "data": {
      "image/png": "[encoded data removed]",
      "text/plain": [
       "<Figure size 720x720 with 1 Axes>"
      ]
     },
     "metadata": {
      "needs_background": "light"
     },
     "output_type": "display_data"
    }
   ],
   "source": [
    "df_1 = df[['genre', 'valence', 'energy']]\n",
    "\n",
    "df_a_usar = df_1.groupby(['genre'])\\\n",
    "                .mean()\\\n",
    "                .sort_values(by=['energy'])\n",
    "df_a_usar.plot.bar(figsize = (10,10), fontsize = 13, rot = 45)"
   ]
  },
  {
   "cell_type": "markdown",
   "id": "50a4c35c",
   "metadata": {},
   "source": [
    "Otro dato interesante para analizar es la popularidad por genero. para ver esto usamos un grafico de densidad donde superponemos los resultados segun el genero para poder realizar una comparacion visual.\n",
    "Al haber muchos generos, vemos una notable diferencia entre opera y los demas, siendo este el genero menos popular con diferencia. Ademas de ser el de menor popularidad, sus valores se concentran en el valor 10, el cual es muy bajo. Esto comportamiento es identico al del genero mas popular, pop.\n",
    "Aun asi, otros generos no tienen una densidad tan alta en un determinado valor de popularidad. El ejemplo mas claro es el Reggaeton, el cual tiene una densidad que tiende a ser mucho mas normalizada que la de los generos ya mencionados."
   ]
  },
  {
   "cell_type": "code",
   "execution_count": 75,
   "id": "04fec1c6",
   "metadata": {},
   "outputs": [
    {
     "data": {
      "text/plain": [
       "<matplotlib.legend.Legend at 0x198b6afa590>"
      ]
     },
     "execution_count": 75,
     "metadata": {},
     "output_type": "execute_result"
    },
    {
     "data": {
      "image/png": "[encoded data removed]",
      "text/plain": [
       "<Figure size 1080x720 with 1 Axes>"
      ]
     },
     "metadata": {
      "needs_background": "light"
     },
     "output_type": "display_data"
    }
   ],
   "source": [
    "df_2 = df[['genre', 'popularity']]\n",
    "df_a_usar_2 = df_2.groupby(['genre'])[\"popularity\"]\n",
    "df_a_usar_2.plot.kde(figsize = (15,10), fontsize = 13, rot = 45)\n",
    "plt.legend()\n"
   ]
  },
  {
   "cell_type": "markdown",
   "id": "60eaeea6",
   "metadata": {},
   "source": [
    "Una primera conclusion que puede obtenerse de este grafico es que nunca la positividad de un genero es mucho mayor a la energia que transmite, pero si puede darse el caso contrario siendo electronica el ejemplo con mayor diferencia."
   ]
  },
  {
   "cell_type": "markdown",
   "id": "44d09e8d",
   "metadata": {},
   "source": []
  },
  {
   "cell_type": "markdown",
   "id": "cb321b00",
   "metadata": {},
   "source": [
    "### 2) Preguntas\n",
    "\n",
    "Planteamos las siguientes incógnitas a resolver:\n",
    "\n",
    "- ¿Existe una relación entre lo \"bailable\" y enérgica que puede resultar una canción?\n",
    "- ¿Aporta la acústica de una canción a su popularidad?"
   ]
  },
  {
   "cell_type": "markdown",
   "id": "7e7812db",
   "metadata": {},
   "source": [
    "### 3) Respuestas"
   ]
  },
  {
   "cell_type": "markdown",
   "id": "84857081",
   "metadata": {},
   "source": [
    "#### Entre lo Bailable y lo Energético\n",
    "\n",
    "La hipótesis de la primera pregunta, es que existe una relación entre estas dos columnas ya que uno creería que cuanto más se pueda bailar una canción, mas energía tiene. Después de todo, nadie bailaría sobre obras clásicas o de opera que probablemente se pueden apreciar mejor en un contexto más tranquilo."
   ]
  },
  {
   "cell_type": "markdown",
   "id": "bac28c20",
   "metadata": {},
   "source": [
    "Vamos a tomar estos dos features y analizarlos en función del género musical:"
   ]
  },
  {
   "cell_type": "code",
   "execution_count": 24,
   "id": "c9029cfc",
   "metadata": {
    "scrolled": false
   },
   "outputs": [
    {
     "data": {
      "text/html": [
       "<div>\n",
       "<style scoped>\n",
       "    .dataframe tbody tr th:only-of-type {\n",
       "        vertical-align: middle;\n",
       "    }\n",
       "\n",
       "    .dataframe tbody tr th {\n",
       "        vertical-align: top;\n",
       "    }\n",
       "\n",
       "    .dataframe thead th {\n",
       "        text-align: right;\n",
       "    }\n",
       "</style>\n",
       "<table border=\"1\" class=\"dataframe\">\n",
       "  <thead>\n",
       "    <tr style=\"text-align: right;\">\n",
       "      <th></th>\n",
       "      <th>genre</th>\n",
       "      <th>danceability</th>\n",
       "      <th>energy</th>\n",
       "    </tr>\n",
       "  </thead>\n",
       "  <tbody>\n",
       "    <tr>\n",
       "      <th>0</th>\n",
       "      <td>Dance</td>\n",
       "      <td>0.73</td>\n",
       "      <td>0.55</td>\n",
       "    </tr>\n",
       "    <tr>\n",
       "      <th>1</th>\n",
       "      <td>Dance</td>\n",
       "      <td>0.78</td>\n",
       "      <td>0.61</td>\n",
       "    </tr>\n",
       "    <tr>\n",
       "      <th>2</th>\n",
       "      <td>Dance</td>\n",
       "      <td>0.74</td>\n",
       "      <td>0.64</td>\n",
       "    </tr>\n",
       "    <tr>\n",
       "      <th>3</th>\n",
       "      <td>Dance</td>\n",
       "      <td>0.59</td>\n",
       "      <td>0.70</td>\n",
       "    </tr>\n",
       "    <tr>\n",
       "      <th>4</th>\n",
       "      <td>Dance</td>\n",
       "      <td>0.73</td>\n",
       "      <td>0.65</td>\n",
       "    </tr>\n",
       "    <tr>\n",
       "      <th>...</th>\n",
       "      <td>...</td>\n",
       "      <td>...</td>\n",
       "      <td>...</td>\n",
       "    </tr>\n",
       "    <tr>\n",
       "      <th>995</th>\n",
       "      <td>Soul</td>\n",
       "      <td>0.59</td>\n",
       "      <td>0.38</td>\n",
       "    </tr>\n",
       "    <tr>\n",
       "      <th>996</th>\n",
       "      <td>Soul</td>\n",
       "      <td>0.45</td>\n",
       "      <td>0.64</td>\n",
       "    </tr>\n",
       "    <tr>\n",
       "      <th>997</th>\n",
       "      <td>Soul</td>\n",
       "      <td>0.51</td>\n",
       "      <td>0.62</td>\n",
       "    </tr>\n",
       "    <tr>\n",
       "      <th>998</th>\n",
       "      <td>Soul</td>\n",
       "      <td>0.67</td>\n",
       "      <td>0.57</td>\n",
       "    </tr>\n",
       "    <tr>\n",
       "      <th>999</th>\n",
       "      <td>Soul</td>\n",
       "      <td>0.78</td>\n",
       "      <td>0.38</td>\n",
       "    </tr>\n",
       "  </tbody>\n",
       "</table>\n",
       "<p>1000 rows × 3 columns</p>\n",
       "</div>"
      ],
      "text/plain": [
       "     genre  danceability  energy\n",
       "0    Dance          0.73    0.55\n",
       "1    Dance          0.78    0.61\n",
       "2    Dance          0.74    0.64\n",
       "3    Dance          0.59    0.70\n",
       "4    Dance          0.73    0.65\n",
       "..     ...           ...     ...\n",
       "995   Soul          0.59    0.38\n",
       "996   Soul          0.45    0.64\n",
       "997   Soul          0.51    0.62\n",
       "998   Soul          0.67    0.57\n",
       "999   Soul          0.78    0.38\n",
       "\n",
       "[1000 rows x 3 columns]"
      ]
     },
     "execution_count": 24,
     "metadata": {},
     "output_type": "execute_result"
    }
   ],
   "source": [
    "danceability_and_energy = df[['genre', 'danceability', 'energy']]\n",
    "danceability_and_energy"
   ]
  },
  {
   "cell_type": "markdown",
   "id": "74d6ebce",
   "metadata": {},
   "source": [
    "Agrupamos los valores por género y los reducimos tomando la media de los mismos:"
   ]
  },
  {
   "cell_type": "code",
   "execution_count": 25,
   "id": "24cb4d39",
   "metadata": {
    "scrolled": true
   },
   "outputs": [
    {
     "data": {
      "text/html": [
       "<div>\n",
       "<style scoped>\n",
       "    .dataframe tbody tr th:only-of-type {\n",
       "        vertical-align: middle;\n",
       "    }\n",
       "\n",
       "    .dataframe tbody tr th {\n",
       "        vertical-align: top;\n",
       "    }\n",
       "\n",
       "    .dataframe thead th {\n",
       "        text-align: right;\n",
       "    }\n",
       "</style>\n",
       "<table border=\"1\" class=\"dataframe\">\n",
       "  <thead>\n",
       "    <tr style=\"text-align: right;\">\n",
       "      <th></th>\n",
       "      <th>danceability</th>\n",
       "      <th>energy</th>\n",
       "    </tr>\n",
       "    <tr>\n",
       "      <th>genre</th>\n",
       "      <th></th>\n",
       "      <th></th>\n",
       "    </tr>\n",
       "  </thead>\n",
       "  <tbody>\n",
       "    <tr>\n",
       "      <th>Opera</th>\n",
       "      <td>0.296111</td>\n",
       "      <td>0.188472</td>\n",
       "    </tr>\n",
       "    <tr>\n",
       "      <th>Classical</th>\n",
       "      <td>0.305556</td>\n",
       "      <td>0.165556</td>\n",
       "    </tr>\n",
       "    <tr>\n",
       "      <th>World</th>\n",
       "      <td>0.458228</td>\n",
       "      <td>0.510380</td>\n",
       "    </tr>\n",
       "    <tr>\n",
       "      <th>Folk</th>\n",
       "      <td>0.521250</td>\n",
       "      <td>0.508125</td>\n",
       "    </tr>\n",
       "    <tr>\n",
       "      <th>Rock</th>\n",
       "      <td>0.540125</td>\n",
       "      <td>0.670250</td>\n",
       "    </tr>\n",
       "    <tr>\n",
       "      <th>Jazz</th>\n",
       "      <td>0.592346</td>\n",
       "      <td>0.517531</td>\n",
       "    </tr>\n",
       "    <tr>\n",
       "      <th>Electronic</th>\n",
       "      <td>0.626173</td>\n",
       "      <td>0.740741</td>\n",
       "    </tr>\n",
       "    <tr>\n",
       "      <th>Soul</th>\n",
       "      <td>0.632031</td>\n",
       "      <td>0.545937</td>\n",
       "    </tr>\n",
       "    <tr>\n",
       "      <th>Dance</th>\n",
       "      <td>0.644400</td>\n",
       "      <td>0.700267</td>\n",
       "    </tr>\n",
       "    <tr>\n",
       "      <th>Pop</th>\n",
       "      <td>0.645976</td>\n",
       "      <td>0.625244</td>\n",
       "    </tr>\n",
       "    <tr>\n",
       "      <th>Reggae</th>\n",
       "      <td>0.693816</td>\n",
       "      <td>0.658158</td>\n",
       "    </tr>\n",
       "    <tr>\n",
       "      <th>Hip-Hop</th>\n",
       "      <td>0.713875</td>\n",
       "      <td>0.631375</td>\n",
       "    </tr>\n",
       "    <tr>\n",
       "      <th>Reggaeton</th>\n",
       "      <td>0.745256</td>\n",
       "      <td>0.735000</td>\n",
       "    </tr>\n",
       "  </tbody>\n",
       "</table>\n",
       "</div>"
      ],
      "text/plain": [
       "            danceability    energy\n",
       "genre                             \n",
       "Opera           0.296111  0.188472\n",
       "Classical       0.305556  0.165556\n",
       "World           0.458228  0.510380\n",
       "Folk            0.521250  0.508125\n",
       "Rock            0.540125  0.670250\n",
       "Jazz            0.592346  0.517531\n",
       "Electronic      0.626173  0.740741\n",
       "Soul            0.632031  0.545937\n",
       "Dance           0.644400  0.700267\n",
       "Pop             0.645976  0.625244\n",
       "Reggae          0.693816  0.658158\n",
       "Hip-Hop         0.713875  0.631375\n",
       "Reggaeton       0.745256  0.735000"
      ]
     },
     "execution_count": 25,
     "metadata": {},
     "output_type": "execute_result"
    }
   ],
   "source": [
    "avg_danceability_and_energy = danceability_and_energy.groupby(['genre'])\\\n",
    "                                                     .mean()\\\n",
    "                                                     .sort_values(by=['danceability'])\n",
    "avg_danceability_and_energy"
   ]
  },
  {
   "cell_type": "code",
   "execution_count": 26,
   "id": "a53ce43b",
   "metadata": {
    "scrolled": false
   },
   "outputs": [
    {
     "data": {
      "text/plain": [
       "<AxesSubplot:xlabel='genre'>"
      ]
     },
     "execution_count": 26,
     "metadata": {},
     "output_type": "execute_result"
    },
    {
     "data": {
      "image/png": "[encoded data removed]",
      "text/plain": [
       "<Figure size 720x720 with 1 Axes>"
      ]
     },
     "metadata": {
      "needs_background": "light"
     },
     "output_type": "display_data"
    }
   ],
   "source": [
    "avg_danceability_and_energy.plot.bar(figsize = (10,10), \n",
    "                                     fontsize = 13, \n",
    "                                     rot = 45)"
   ]
  },
  {
   "cell_type": "markdown",
   "id": "ed296698",
   "metadata": {},
   "source": [
    "Podemos contemplar que cuanto más bailable es una canción, más enérgica suele ser. Esto tiene sentido pues es esperable que un género como el Reggaeton sea más \"vivo\" (bailable y enérgico) que la Opera."
   ]
  },
  {
   "cell_type": "markdown",
   "id": "dd156fa3",
   "metadata": {},
   "source": [
    "Esto al fin y al cabo es una tendencia y no necesariamente se aplica a todos los casos. El rock que es menos bailable que el jazz, es más enérgico que este único. Podemos ver más limpiamente como esta tendencia aparece analizando los valores absolutos de las diferencias."
   ]
  },
  {
   "cell_type": "markdown",
   "id": "7f465702",
   "metadata": {},
   "source": [
    "Esto se puede realizar gracias a que los dos features tienen valores que entran en el mismo rango de cero a uno:"
   ]
  },
  {
   "cell_type": "code",
   "execution_count": 27,
   "id": "93bee386",
   "metadata": {},
   "outputs": [
    {
     "data": {
      "text/html": [
       "<div>\n",
       "<style scoped>\n",
       "    .dataframe tbody tr th:only-of-type {\n",
       "        vertical-align: middle;\n",
       "    }\n",
       "\n",
       "    .dataframe tbody tr th {\n",
       "        vertical-align: top;\n",
       "    }\n",
       "\n",
       "    .dataframe thead tr th {\n",
       "        text-align: left;\n",
       "    }\n",
       "\n",
       "    .dataframe thead tr:last-of-type th {\n",
       "        text-align: right;\n",
       "    }\n",
       "</style>\n",
       "<table border=\"1\" class=\"dataframe\">\n",
       "  <thead>\n",
       "    <tr>\n",
       "      <th></th>\n",
       "      <th colspan=\"2\" halign=\"left\">danceability</th>\n",
       "      <th colspan=\"2\" halign=\"left\">energy</th>\n",
       "    </tr>\n",
       "    <tr>\n",
       "      <th></th>\n",
       "      <th>min</th>\n",
       "      <th>max</th>\n",
       "      <th>min</th>\n",
       "      <th>max</th>\n",
       "    </tr>\n",
       "    <tr>\n",
       "      <th>genre</th>\n",
       "      <th></th>\n",
       "      <th></th>\n",
       "      <th></th>\n",
       "      <th></th>\n",
       "    </tr>\n",
       "  </thead>\n",
       "  <tbody>\n",
       "    <tr>\n",
       "      <th>Classical</th>\n",
       "      <td>0.09</td>\n",
       "      <td>0.69</td>\n",
       "      <td>0.00</td>\n",
       "      <td>0.98</td>\n",
       "    </tr>\n",
       "    <tr>\n",
       "      <th>Dance</th>\n",
       "      <td>0.23</td>\n",
       "      <td>0.86</td>\n",
       "      <td>0.32</td>\n",
       "      <td>0.96</td>\n",
       "    </tr>\n",
       "    <tr>\n",
       "      <th>Electronic</th>\n",
       "      <td>0.24</td>\n",
       "      <td>0.93</td>\n",
       "      <td>0.21</td>\n",
       "      <td>1.00</td>\n",
       "    </tr>\n",
       "    <tr>\n",
       "      <th>Folk</th>\n",
       "      <td>0.26</td>\n",
       "      <td>0.80</td>\n",
       "      <td>0.06</td>\n",
       "      <td>0.99</td>\n",
       "    </tr>\n",
       "    <tr>\n",
       "      <th>Hip-Hop</th>\n",
       "      <td>0.45</td>\n",
       "      <td>0.91</td>\n",
       "      <td>0.11</td>\n",
       "      <td>0.95</td>\n",
       "    </tr>\n",
       "    <tr>\n",
       "      <th>Jazz</th>\n",
       "      <td>0.20</td>\n",
       "      <td>0.91</td>\n",
       "      <td>0.14</td>\n",
       "      <td>0.87</td>\n",
       "    </tr>\n",
       "    <tr>\n",
       "      <th>Opera</th>\n",
       "      <td>0.08</td>\n",
       "      <td>0.60</td>\n",
       "      <td>0.01</td>\n",
       "      <td>0.51</td>\n",
       "    </tr>\n",
       "    <tr>\n",
       "      <th>Pop</th>\n",
       "      <td>0.33</td>\n",
       "      <td>0.94</td>\n",
       "      <td>0.23</td>\n",
       "      <td>0.94</td>\n",
       "    </tr>\n",
       "    <tr>\n",
       "      <th>Reggae</th>\n",
       "      <td>0.38</td>\n",
       "      <td>0.95</td>\n",
       "      <td>0.30</td>\n",
       "      <td>0.95</td>\n",
       "    </tr>\n",
       "    <tr>\n",
       "      <th>Reggaeton</th>\n",
       "      <td>0.44</td>\n",
       "      <td>0.93</td>\n",
       "      <td>0.43</td>\n",
       "      <td>0.95</td>\n",
       "    </tr>\n",
       "    <tr>\n",
       "      <th>Rock</th>\n",
       "      <td>0.22</td>\n",
       "      <td>0.79</td>\n",
       "      <td>0.09</td>\n",
       "      <td>0.98</td>\n",
       "    </tr>\n",
       "    <tr>\n",
       "      <th>Soul</th>\n",
       "      <td>0.35</td>\n",
       "      <td>0.88</td>\n",
       "      <td>0.03</td>\n",
       "      <td>0.93</td>\n",
       "    </tr>\n",
       "    <tr>\n",
       "      <th>World</th>\n",
       "      <td>0.11</td>\n",
       "      <td>0.83</td>\n",
       "      <td>0.00</td>\n",
       "      <td>0.99</td>\n",
       "    </tr>\n",
       "  </tbody>\n",
       "</table>\n",
       "</div>"
      ],
      "text/plain": [
       "           danceability       energy      \n",
       "                    min   max    min   max\n",
       "genre                                     \n",
       "Classical          0.09  0.69   0.00  0.98\n",
       "Dance              0.23  0.86   0.32  0.96\n",
       "Electronic         0.24  0.93   0.21  1.00\n",
       "Folk               0.26  0.80   0.06  0.99\n",
       "Hip-Hop            0.45  0.91   0.11  0.95\n",
       "Jazz               0.20  0.91   0.14  0.87\n",
       "Opera              0.08  0.60   0.01  0.51\n",
       "Pop                0.33  0.94   0.23  0.94\n",
       "Reggae             0.38  0.95   0.30  0.95\n",
       "Reggaeton          0.44  0.93   0.43  0.95\n",
       "Rock               0.22  0.79   0.09  0.98\n",
       "Soul               0.35  0.88   0.03  0.93\n",
       "World              0.11  0.83   0.00  0.99"
      ]
     },
     "execution_count": 27,
     "metadata": {},
     "output_type": "execute_result"
    }
   ],
   "source": [
    "peak_danceability_and_energy = danceability_and_energy.groupby(['genre'])\\\n",
    "                                                      .agg({'danceability': ['min', 'max'],\n",
    "                                                            'energy': ['min', 'max']})\n",
    "peak_danceability_and_energy"
   ]
  },
  {
   "cell_type": "code",
   "execution_count": 28,
   "id": "2d40904d",
   "metadata": {},
   "outputs": [
    {
     "data": {
      "text/plain": [
       "True"
      ]
     },
     "execution_count": 28,
     "metadata": {},
     "output_type": "execute_result"
    }
   ],
   "source": [
    "(peak_danceability_and_energy.danceability[\"max\"].max() <= 1) and\\\n",
    "(peak_danceability_and_energy.energy[\"max\"].max() <= 1) and\\\n",
    "(peak_danceability_and_energy.danceability[\"min\"].min() >= 0) and\\\n",
    "(peak_danceability_and_energy.energy[\"min\"].min() >= 0)"
   ]
  },
  {
   "cell_type": "markdown",
   "id": "724df6a2",
   "metadata": {},
   "source": [
    "Al ser valores que viven en un mismo rango acotado, podemos computar la diferencia:"
   ]
  },
  {
   "cell_type": "code",
   "execution_count": 29,
   "id": "1ac271d9",
   "metadata": {
    "scrolled": true
   },
   "outputs": [
    {
     "data": {
      "text/html": [
       "<div>\n",
       "<style scoped>\n",
       "    .dataframe tbody tr th:only-of-type {\n",
       "        vertical-align: middle;\n",
       "    }\n",
       "\n",
       "    .dataframe tbody tr th {\n",
       "        vertical-align: top;\n",
       "    }\n",
       "\n",
       "    .dataframe thead th {\n",
       "        text-align: right;\n",
       "    }\n",
       "</style>\n",
       "<table border=\"1\" class=\"dataframe\">\n",
       "  <thead>\n",
       "    <tr style=\"text-align: right;\">\n",
       "      <th></th>\n",
       "      <th>danceability</th>\n",
       "      <th>energy</th>\n",
       "    </tr>\n",
       "    <tr>\n",
       "      <th>genre</th>\n",
       "      <th></th>\n",
       "      <th></th>\n",
       "    </tr>\n",
       "  </thead>\n",
       "  <tbody>\n",
       "    <tr>\n",
       "      <th>Opera</th>\n",
       "      <td>0.296111</td>\n",
       "      <td>0.188472</td>\n",
       "    </tr>\n",
       "    <tr>\n",
       "      <th>Classical</th>\n",
       "      <td>0.305556</td>\n",
       "      <td>0.165556</td>\n",
       "    </tr>\n",
       "    <tr>\n",
       "      <th>World</th>\n",
       "      <td>0.458228</td>\n",
       "      <td>0.510380</td>\n",
       "    </tr>\n",
       "    <tr>\n",
       "      <th>Folk</th>\n",
       "      <td>0.521250</td>\n",
       "      <td>0.508125</td>\n",
       "    </tr>\n",
       "    <tr>\n",
       "      <th>Rock</th>\n",
       "      <td>0.540125</td>\n",
       "      <td>0.670250</td>\n",
       "    </tr>\n",
       "    <tr>\n",
       "      <th>Jazz</th>\n",
       "      <td>0.592346</td>\n",
       "      <td>0.517531</td>\n",
       "    </tr>\n",
       "    <tr>\n",
       "      <th>Electronic</th>\n",
       "      <td>0.626173</td>\n",
       "      <td>0.740741</td>\n",
       "    </tr>\n",
       "    <tr>\n",
       "      <th>Soul</th>\n",
       "      <td>0.632031</td>\n",
       "      <td>0.545937</td>\n",
       "    </tr>\n",
       "    <tr>\n",
       "      <th>Dance</th>\n",
       "      <td>0.644400</td>\n",
       "      <td>0.700267</td>\n",
       "    </tr>\n",
       "    <tr>\n",
       "      <th>Pop</th>\n",
       "      <td>0.645976</td>\n",
       "      <td>0.625244</td>\n",
       "    </tr>\n",
       "    <tr>\n",
       "      <th>Reggae</th>\n",
       "      <td>0.693816</td>\n",
       "      <td>0.658158</td>\n",
       "    </tr>\n",
       "    <tr>\n",
       "      <th>Hip-Hop</th>\n",
       "      <td>0.713875</td>\n",
       "      <td>0.631375</td>\n",
       "    </tr>\n",
       "    <tr>\n",
       "      <th>Reggaeton</th>\n",
       "      <td>0.745256</td>\n",
       "      <td>0.735000</td>\n",
       "    </tr>\n",
       "  </tbody>\n",
       "</table>\n",
       "</div>"
      ],
      "text/plain": [
       "            danceability    energy\n",
       "genre                             \n",
       "Opera           0.296111  0.188472\n",
       "Classical       0.305556  0.165556\n",
       "World           0.458228  0.510380\n",
       "Folk            0.521250  0.508125\n",
       "Rock            0.540125  0.670250\n",
       "Jazz            0.592346  0.517531\n",
       "Electronic      0.626173  0.740741\n",
       "Soul            0.632031  0.545937\n",
       "Dance           0.644400  0.700267\n",
       "Pop             0.645976  0.625244\n",
       "Reggae          0.693816  0.658158\n",
       "Hip-Hop         0.713875  0.631375\n",
       "Reggaeton       0.745256  0.735000"
      ]
     },
     "execution_count": 29,
     "metadata": {},
     "output_type": "execute_result"
    }
   ],
   "source": [
    "avg_danceability_and_energy"
   ]
  },
  {
   "cell_type": "code",
   "execution_count": 30,
   "id": "3c758696",
   "metadata": {
    "scrolled": false
   },
   "outputs": [
    {
     "data": {
      "text/html": [
       "<div>\n",
       "<style scoped>\n",
       "    .dataframe tbody tr th:only-of-type {\n",
       "        vertical-align: middle;\n",
       "    }\n",
       "\n",
       "    .dataframe tbody tr th {\n",
       "        vertical-align: top;\n",
       "    }\n",
       "\n",
       "    .dataframe thead th {\n",
       "        text-align: right;\n",
       "    }\n",
       "</style>\n",
       "<table border=\"1\" class=\"dataframe\">\n",
       "  <thead>\n",
       "    <tr style=\"text-align: right;\">\n",
       "      <th></th>\n",
       "      <th>diff</th>\n",
       "    </tr>\n",
       "    <tr>\n",
       "      <th>genre</th>\n",
       "      <th></th>\n",
       "    </tr>\n",
       "  </thead>\n",
       "  <tbody>\n",
       "    <tr>\n",
       "      <th>Opera</th>\n",
       "      <td>0.107639</td>\n",
       "    </tr>\n",
       "    <tr>\n",
       "      <th>Classical</th>\n",
       "      <td>0.140000</td>\n",
       "    </tr>\n",
       "    <tr>\n",
       "      <th>World</th>\n",
       "      <td>0.052152</td>\n",
       "    </tr>\n",
       "    <tr>\n",
       "      <th>Folk</th>\n",
       "      <td>0.013125</td>\n",
       "    </tr>\n",
       "    <tr>\n",
       "      <th>Rock</th>\n",
       "      <td>0.130125</td>\n",
       "    </tr>\n",
       "    <tr>\n",
       "      <th>Jazz</th>\n",
       "      <td>0.074815</td>\n",
       "    </tr>\n",
       "    <tr>\n",
       "      <th>Electronic</th>\n",
       "      <td>0.114568</td>\n",
       "    </tr>\n",
       "    <tr>\n",
       "      <th>Soul</th>\n",
       "      <td>0.086094</td>\n",
       "    </tr>\n",
       "    <tr>\n",
       "      <th>Dance</th>\n",
       "      <td>0.055867</td>\n",
       "    </tr>\n",
       "    <tr>\n",
       "      <th>Pop</th>\n",
       "      <td>0.020732</td>\n",
       "    </tr>\n",
       "    <tr>\n",
       "      <th>Reggae</th>\n",
       "      <td>0.035658</td>\n",
       "    </tr>\n",
       "    <tr>\n",
       "      <th>Hip-Hop</th>\n",
       "      <td>0.082500</td>\n",
       "    </tr>\n",
       "    <tr>\n",
       "      <th>Reggaeton</th>\n",
       "      <td>0.010256</td>\n",
       "    </tr>\n",
       "  </tbody>\n",
       "</table>\n",
       "</div>"
      ],
      "text/plain": [
       "                diff\n",
       "genre               \n",
       "Opera       0.107639\n",
       "Classical   0.140000\n",
       "World       0.052152\n",
       "Folk        0.013125\n",
       "Rock        0.130125\n",
       "Jazz        0.074815\n",
       "Electronic  0.114568\n",
       "Soul        0.086094\n",
       "Dance       0.055867\n",
       "Pop         0.020732\n",
       "Reggae      0.035658\n",
       "Hip-Hop     0.082500\n",
       "Reggaeton   0.010256"
      ]
     },
     "execution_count": 30,
     "metadata": {},
     "output_type": "execute_result"
    }
   ],
   "source": [
    "danceability_and_energy_diff = avg_danceability_and_energy.copy()\n",
    "danceability_and_energy_diff['diff'] = abs(danceability_and_energy_diff['danceability'] - danceability_and_energy_diff['energy'])\n",
    "danceability_and_energy_diff = danceability_and_energy_diff[danceability_and_energy_diff.columns\n",
    "                                                                                        .drop(['danceability', 'energy'])]\n",
    "danceability_and_energy_diff"
   ]
  },
  {
   "cell_type": "code",
   "execution_count": 31,
   "id": "6c4d99e0",
   "metadata": {
    "scrolled": false
   },
   "outputs": [
    {
     "data": {
      "image/png": "[encoded data removed]",
      "text/plain": [
       "<Figure size 1080x504 with 1 Axes>"
      ]
     },
     "metadata": {
      "needs_background": "light"
     },
     "output_type": "display_data"
    }
   ],
   "source": [
    "danceability_and_energy_diff.plot.line(figsize = (15,7), \n",
    "                                       fontsize = 20, \n",
    "                                       rot = 45,\n",
    "                                       style=\"-o\")\n",
    "plt.ylim(0, 1)\n",
    "diff_index = danceability_and_energy_diff.index\n",
    "plt.xticks(list(range(len(diff_index))), diff_index, fontsize=12)\n",
    "plt.show()"
   ]
  },
  {
   "cell_type": "markdown",
   "id": "12d6149b",
   "metadata": {},
   "source": [
    "**Por lo tanto** notamos que en todos los géneros, no existe mucha diferencia entre lo bailable y enérgico que es una canción y entonces *tiende* a cumplirse la hipótesis propuesta."
   ]
  },
  {
   "cell_type": "markdown",
   "id": "e762ff29",
   "metadata": {},
   "source": [
    "#### Entre la Acústica y la Popularidad"
   ]
  },
  {
   "cell_type": "markdown",
   "id": "a36b81b8",
   "metadata": {},
   "source": [
    "Esta hipótesis se basa en la creencia de que el público general, cada vez tiende a escuchar géneros músicales menos [acústicos](https://es.wikipedia.org/wiki/M%C3%BAsica_ac%C3%BAstica#:~:text=La%20m%C3%BAsica%20ac%C3%BAstica%20es%20un,la%20manera%20el%C3%A9ctrica%20o%20electr%C3%B3nica.) y más electrónicos. Esto se nutre del dato de que géneros como el Pop y el Rock, son muy populares y poco acústicos a la vez y que la Opera y la música clásica se encuentran en el extremo opuesto del espectro. "
   ]
  },
  {
   "cell_type": "markdown",
   "id": "5ce9aa19",
   "metadata": {},
   "source": [
    "Iniciamos la investigación observando las coordenadas de relación entre las dos columnas:"
   ]
  },
  {
   "cell_type": "code",
   "execution_count": 32,
   "id": "9e0951b2",
   "metadata": {
    "scrolled": false
   },
   "outputs": [
    {
     "ename": "NameError",
     "evalue": "name 'f1' is not defined",
     "output_type": "error",
     "traceback": [
      "\u001b[1;31m---------------------------------------------------------------------------\u001b[0m",
      "\u001b[1;31mNameError\u001b[0m                                 Traceback (most recent call last)",
      "Input \u001b[1;32mIn [32]\u001b[0m, in \u001b[0;36m<cell line: 2>\u001b[1;34m()\u001b[0m\n\u001b[0;32m      1\u001b[0m sns\u001b[38;5;241m.\u001b[39mlmplot(x \u001b[38;5;241m=\u001b[39m \u001b[38;5;124m'\u001b[39m\u001b[38;5;124mpopularity\u001b[39m\u001b[38;5;124m'\u001b[39m, y \u001b[38;5;241m=\u001b[39m \u001b[38;5;124m'\u001b[39m\u001b[38;5;124macousticness\u001b[39m\u001b[38;5;124m'\u001b[39m, data \u001b[38;5;241m=\u001b[39m df, fit_reg \u001b[38;5;241m=\u001b[39m \u001b[38;5;28;01mTrue\u001b[39;00m) \n\u001b[1;32m----> 2\u001b[0m sns\u001b[38;5;241m.\u001b[39mlmplot(x \u001b[38;5;241m=\u001b[39m \u001b[38;5;124m'\u001b[39m\u001b[38;5;124mpopularity\u001b[39m\u001b[38;5;124m'\u001b[39m, y \u001b[38;5;241m=\u001b[39m \u001b[38;5;124m'\u001b[39m\u001b[38;5;124macousticness\u001b[39m\u001b[38;5;124m'\u001b[39m, data \u001b[38;5;241m=\u001b[39m df\u001b[38;5;241m.\u001b[39mloc[df[\u001b[43mf1\u001b[49m] \u001b[38;5;241m<\u001b[39m \u001b[38;5;241m30\u001b[39m], fit_reg \u001b[38;5;241m=\u001b[39m \u001b[38;5;28;01mTrue\u001b[39;00m) \n\u001b[0;32m      3\u001b[0m sns\u001b[38;5;241m.\u001b[39mlmplot(x \u001b[38;5;241m=\u001b[39m \u001b[38;5;124m'\u001b[39m\u001b[38;5;124mpopularity\u001b[39m\u001b[38;5;124m'\u001b[39m, y \u001b[38;5;241m=\u001b[39m \u001b[38;5;124m'\u001b[39m\u001b[38;5;124macousticness\u001b[39m\u001b[38;5;124m'\u001b[39m, data \u001b[38;5;241m=\u001b[39m df\u001b[38;5;241m.\u001b[39mloc[df[f1]\u001b[38;5;241m.\u001b[39mbetween(\u001b[38;5;241m30\u001b[39m,\u001b[38;5;241m60\u001b[39m)], fit_reg \u001b[38;5;241m=\u001b[39m \u001b[38;5;28;01mTrue\u001b[39;00m) \n\u001b[0;32m      4\u001b[0m sns\u001b[38;5;241m.\u001b[39mlmplot(x \u001b[38;5;241m=\u001b[39m \u001b[38;5;124m'\u001b[39m\u001b[38;5;124mpopularity\u001b[39m\u001b[38;5;124m'\u001b[39m, y \u001b[38;5;241m=\u001b[39m \u001b[38;5;124m'\u001b[39m\u001b[38;5;124macousticness\u001b[39m\u001b[38;5;124m'\u001b[39m, data \u001b[38;5;241m=\u001b[39m df\u001b[38;5;241m.\u001b[39mloc[df[f1] \u001b[38;5;241m>\u001b[39m \u001b[38;5;241m60\u001b[39m], fit_reg \u001b[38;5;241m=\u001b[39m \u001b[38;5;28;01mTrue\u001b[39;00m)\n",
      "\u001b[1;31mNameError\u001b[0m: name 'f1' is not defined"
     ]
    },
    {
     "data": {
      "image/png": "[encoded data removed]",
      "text/plain": [
       "<Figure size 360x360 with 1 Axes>"
      ]
     },
     "metadata": {
      "needs_background": "light"
     },
     "output_type": "display_data"
    }
   ],
   "source": [
    "sns.lmplot(x = 'popularity', y = 'acousticness', data = df, fit_reg = True) \n",
    "sns.lmplot(x = 'popularity', y = 'acousticness', data = df.loc[df[f1] < 30], fit_reg = True) \n",
    "sns.lmplot(x = 'popularity', y = 'acousticness', data = df.loc[df[f1].between(30,60)], fit_reg = True) \n",
    "sns.lmplot(x = 'popularity', y = 'acousticness', data = df.loc[df[f1] > 60], fit_reg = True) "
   ]
  },
  {
   "cell_type": "markdown",
   "id": "ca5e02f3",
   "metadata": {},
   "source": [
    "Y podemos visualizar que las rectas que mejor se ajustan a estos puntos tienen pendientes negativas, por lo que se puede ver que estos dos features poseen una correlación negativa entre sí."
   ]
  },
  {
   "cell_type": "code",
   "execution_count": 33,
   "id": "e65e4188",
   "metadata": {
    "scrolled": true
   },
   "outputs": [
    {
     "name": "stderr",
     "output_type": "stream",
     "text": [
      "C:\\Users\\Agus\\AppData\\Local\\Temp\\ipykernel_12064\\115883076.py:2: SettingWithCopyWarning: \n",
      "A value is trying to be set on a copy of a slice from a DataFrame.\n",
      "Try using .loc[row_indexer,col_indexer] = value instead\n",
      "\n",
      "See the caveats in the documentation: https://pandas.pydata.org/pandas-docs/stable/user_guide/indexing.html#returning-a-view-versus-a-copy\n",
      "  a.popularity = a.popularity.apply(lambda p: p/100)\n"
     ]
    },
    {
     "data": {
      "text/plain": [
       "<AxesSubplot:ylabel='genre'>"
      ]
     },
     "execution_count": 33,
     "metadata": {},
     "output_type": "execute_result"
    },
    {
     "data": {
      "image/png": "[encoded data removed]",
      "text/plain": [
       "<Figure size 432x288 with 1 Axes>"
      ]
     },
     "metadata": {
      "needs_background": "light"
     },
     "output_type": "display_data"
    }
   ],
   "source": [
    "a = df[['genre', 'popularity', 'acousticness']]\n",
    "a.popularity = a.popularity.apply(lambda p: p/100)\n",
    "a.groupby('genre').mean().sort_values(by=['acousticness']).plot.barh()"
   ]
  },
  {
   "cell_type": "markdown",
   "id": "56ea9992",
   "metadata": {},
   "source": [
    "No solo en general la correlación es negativa, sino que además, podemos notar que en general cuanto más acústico es un género menos popularidad tiene."
   ]
  }
 ],
 "metadata": {
  "kernelspec": {
   "display_name": "Python 3 (ipykernel)",
   "language": "python",
   "name": "python3"
  },
  "language_info": {
   "codemirror_mode": {
    "name": "ipython",
    "version": 3
   },
   "file_extension": ".py",
   "mimetype": "text/x-python",
   "name": "python",
   "nbconvert_exporter": "python",
   "pygments_lexer": "ipython3",
   "version": "3.10.2"
  }
 },
 "nbformat": 4,
 "nbformat_minor": 5
}
